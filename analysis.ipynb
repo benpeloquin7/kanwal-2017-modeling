{
 "cells": [
  {
   "cell_type": "markdown",
   "metadata": {},
   "source": [
    "# Modeling Kanwal (2007)\n",
    "\n",
    "## Contents of readme\n",
    "\n",
    "Each file in this dataset corresponds to one of the four experimental conditions described in the paper: Combined condition (data_dyad_all_R_dem.csv), Accuracy condition (data_partner_only_all_R_dem.csv), Time condition (data_time_only_R_dem), and Neither condition (data_min_R_dem.csv).\n",
    "\n",
    "Descriptions of the column headings are as follows:\n",
    "\n",
    "* **pairnum** - the ID number of the pair\n",
    "* **IP** - IP address of individual participant\n",
    "* **timestamp** - time of data collection\n",
    "* **counterbalance** - ID number of counterbalance condition (1, 2, 3, or 4)\n",
    "* **code** - completion code entered by participant\n",
    "* **trial** - director trial number (up to 32 in Combined & Accuracy conditions, up to 64 in Time and Neither conditions)\n",
    "* **display** - 0/1 = frequent object displayed to director, 2/3 = infrequent object displayed\n",
    "* **label** - label chosen by director (zop = short label)\n",
    "* **button.side** - placement of button corresponding to the chosen label (R or L)\n",
    "* **workerID** - turk worker ID of individual participant\n",
    "* **age** - age of participant\n",
    "* **gender** - gender of participant\n",
    "* **L1** - participant's native language(s)\n",
    "* **L2** - participant's other spoken language(s)\n",
    "* **explanation** - explanation given by participant of their strategy during the director trials, from the exit survey"
   ]
  },
  {
   "cell_type": "code",
   "execution_count": 4,
   "metadata": {
    "collapsed": true
   },
   "outputs": [],
   "source": [
    "from collections import Counter\n",
    "import matplotlib\n",
    "import matplotlib.pyplot as plt\n",
    "import numpy as np\n",
    "import os\n",
    "import pandas as pd\n",
    "import pdb\n",
    "import random\n",
    "import seaborn as sns\n",
    "\n",
    "%matplotlib inline "
   ]
  },
  {
   "cell_type": "markdown",
   "metadata": {},
   "source": [
    "### Read data"
   ]
  },
  {
   "cell_type": "code",
   "execution_count": 5,
   "metadata": {
    "collapsed": true
   },
   "outputs": [],
   "source": [
    "def process_line(l):\n",
    "    return list(map(lambda x: x.strip(), l.split(', ')))\n",
    "\n",
    "def file2df(f_path, condition):\n",
    "    data = []\n",
    "    with open(f_path, 'r') as f:\n",
    "        header = process_line(f.readline())\n",
    "        for l in f.readlines():\n",
    "            if l == '\\n':\n",
    "                continue\n",
    "            curr_line = process_line(l)\n",
    "            data.append({hdr: d for hdr, d in zip(header, curr_line)})\n",
    "\n",
    "    df = pd.DataFrame(data)\n",
    "    df['condition'] = condition\n",
    "    return df"
   ]
  },
  {
   "cell_type": "code",
   "execution_count": 12,
   "metadata": {},
   "outputs": [],
   "source": [
    "dir_path = './kanwal-et-al-2017-materials/kanwal-jasmeen-2017-data/'\n",
    "f_combined_path = os.path.join(dir_path, \"data_dyad_all_R_dem.csv\")\n",
    "f_accuracy_path = os.path.join(dir_path, \"data_partner_only_all_R_dem.csv\")\n",
    "f_time_path =     os.path.join(dir_path, \"data_time_only_R_dem.csv\")\n",
    "f_neither_path =  os.path.join(dir_path, \"data_min_R_dem.csv\")\n",
    "\n",
    "df_combined = file2df(f_combined_path, 'combined')\n",
    "df_accuracy = file2df(f_accuracy_path, 'accuracy')\n",
    "df_time =     file2df(f_time_path, 'time')\n",
    "df_neither =  file2df(f_neither_path, 'neither')\n",
    "\n",
    "df_agg = df_combined.append(df_accuracy.append(df_time.append(df_neither)))\n",
    "df_agg['trial'] = df_agg['trial'].apply(lambda x: int(x))\n",
    "df_agg['display'] = df_agg['display'].apply(lambda x: int(x))"
   ]
  },
  {
   "cell_type": "markdown",
   "metadata": {},
   "source": [
    "*minor preprocessing*\n",
    "\n",
    "* code for short vs long name"
   ]
  },
  {
   "cell_type": "code",
   "execution_count": 13,
   "metadata": {
    "collapsed": true
   },
   "outputs": [],
   "source": [
    "def get_result(x, typ='infrequent'):\n",
    "    if typ == 'frequent':\n",
    "        return x['display'] <= 1 and x['label_type'] == 0\n",
    "    else:\n",
    "        return x['display'] > 1 and x['label_type'] == 0\n",
    "\n",
    "df_agg['label_type'] = df_agg['label'].apply(lambda x: 'short' if x == 'zop' else 'long')\n",
    "df_agg['display_type'] = df_agg['display'].apply(lambda x: 'frequent' if x < 2 else 'infrequent')\n",
    "# df_agg['short_infrequent'] = df_agg.apply(lambda x: get_result(x, 'infrequent'), axis=1) \n",
    "# df_agg['short_frequent'] = df_agg.apply(lambda x: get_result(x, 'frequent'), axis=1) "
   ]
  },
  {
   "cell_type": "code",
   "execution_count": 14,
   "metadata": {},
   "outputs": [
    {
     "data": {
      "text/html": [
       "<div>\n",
       "<style scoped>\n",
       "    .dataframe tbody tr th:only-of-type {\n",
       "        vertical-align: middle;\n",
       "    }\n",
       "\n",
       "    .dataframe tbody tr th {\n",
       "        vertical-align: top;\n",
       "    }\n",
       "\n",
       "    .dataframe thead th {\n",
       "        text-align: right;\n",
       "    }\n",
       "</style>\n",
       "<table border=\"1\" class=\"dataframe\">\n",
       "  <thead>\n",
       "    <tr style=\"text-align: right;\">\n",
       "      <th></th>\n",
       "      <th>IP</th>\n",
       "      <th>L1</th>\n",
       "      <th>L2</th>\n",
       "      <th>age</th>\n",
       "      <th>button.side</th>\n",
       "      <th>code</th>\n",
       "      <th>condition</th>\n",
       "      <th>counterbalance</th>\n",
       "      <th>display</th>\n",
       "      <th>explanation</th>\n",
       "      <th>gender</th>\n",
       "      <th>label</th>\n",
       "      <th>pairnum</th>\n",
       "      <th>timestamp</th>\n",
       "      <th>trial</th>\n",
       "      <th>workerID</th>\n",
       "      <th>label_type</th>\n",
       "      <th>display_type</th>\n",
       "    </tr>\n",
       "  </thead>\n",
       "  <tbody>\n",
       "    <tr>\n",
       "      <th>0</th>\n",
       "      <td>67.85.42.18</td>\n",
       "      <td>\"English\"</td>\n",
       "      <td>\"{}\"</td>\n",
       "      <td>29</td>\n",
       "      <td>R</td>\n",
       "      <td>JK03850S</td>\n",
       "      <td>combined</td>\n",
       "      <td>1</td>\n",
       "      <td>0</td>\n",
       "      <td>\"We seemed to agree on just using zop for the ...</td>\n",
       "      <td>Male</td>\n",
       "      <td>zop</td>\n",
       "      <td>1</td>\n",
       "      <td>14:16 18/11/2015</td>\n",
       "      <td>1</td>\n",
       "      <td>ARVXIBUCA8WDZ</td>\n",
       "      <td>short</td>\n",
       "      <td>frequent</td>\n",
       "    </tr>\n",
       "    <tr>\n",
       "      <th>1</th>\n",
       "      <td>67.85.42.18</td>\n",
       "      <td>\"English\"</td>\n",
       "      <td>\"{}\"</td>\n",
       "      <td>29</td>\n",
       "      <td>R</td>\n",
       "      <td>JK03850S</td>\n",
       "      <td>combined</td>\n",
       "      <td>1</td>\n",
       "      <td>3</td>\n",
       "      <td>\"We seemed to agree on just using zop for the ...</td>\n",
       "      <td>Male</td>\n",
       "      <td>zopudon</td>\n",
       "      <td>1</td>\n",
       "      <td>14:16 18/11/2015</td>\n",
       "      <td>2</td>\n",
       "      <td>ARVXIBUCA8WDZ</td>\n",
       "      <td>long</td>\n",
       "      <td>infrequent</td>\n",
       "    </tr>\n",
       "    <tr>\n",
       "      <th>2</th>\n",
       "      <td>67.85.42.18</td>\n",
       "      <td>\"English\"</td>\n",
       "      <td>\"{}\"</td>\n",
       "      <td>29</td>\n",
       "      <td>R</td>\n",
       "      <td>JK03850S</td>\n",
       "      <td>combined</td>\n",
       "      <td>1</td>\n",
       "      <td>0</td>\n",
       "      <td>\"We seemed to agree on just using zop for the ...</td>\n",
       "      <td>Male</td>\n",
       "      <td>zop</td>\n",
       "      <td>1</td>\n",
       "      <td>14:16 18/11/2015</td>\n",
       "      <td>3</td>\n",
       "      <td>ARVXIBUCA8WDZ</td>\n",
       "      <td>short</td>\n",
       "      <td>frequent</td>\n",
       "    </tr>\n",
       "    <tr>\n",
       "      <th>3</th>\n",
       "      <td>67.85.42.18</td>\n",
       "      <td>\"English\"</td>\n",
       "      <td>\"{}\"</td>\n",
       "      <td>29</td>\n",
       "      <td>L</td>\n",
       "      <td>JK03850S</td>\n",
       "      <td>combined</td>\n",
       "      <td>1</td>\n",
       "      <td>0</td>\n",
       "      <td>\"We seemed to agree on just using zop for the ...</td>\n",
       "      <td>Male</td>\n",
       "      <td>zopekil</td>\n",
       "      <td>1</td>\n",
       "      <td>14:16 18/11/2015</td>\n",
       "      <td>4</td>\n",
       "      <td>ARVXIBUCA8WDZ</td>\n",
       "      <td>long</td>\n",
       "      <td>frequent</td>\n",
       "    </tr>\n",
       "    <tr>\n",
       "      <th>4</th>\n",
       "      <td>67.85.42.18</td>\n",
       "      <td>\"English\"</td>\n",
       "      <td>\"{}\"</td>\n",
       "      <td>29</td>\n",
       "      <td>L</td>\n",
       "      <td>JK03850S</td>\n",
       "      <td>combined</td>\n",
       "      <td>1</td>\n",
       "      <td>2</td>\n",
       "      <td>\"We seemed to agree on just using zop for the ...</td>\n",
       "      <td>Male</td>\n",
       "      <td>zopudon</td>\n",
       "      <td>1</td>\n",
       "      <td>14:16 18/11/2015</td>\n",
       "      <td>5</td>\n",
       "      <td>ARVXIBUCA8WDZ</td>\n",
       "      <td>long</td>\n",
       "      <td>infrequent</td>\n",
       "    </tr>\n",
       "  </tbody>\n",
       "</table>\n",
       "</div>"
      ],
      "text/plain": [
       "            IP         L1    L2 age button.side      code condition  \\\n",
       "0  67.85.42.18  \"English\"  \"{}\"  29           R  JK03850S  combined   \n",
       "1  67.85.42.18  \"English\"  \"{}\"  29           R  JK03850S  combined   \n",
       "2  67.85.42.18  \"English\"  \"{}\"  29           R  JK03850S  combined   \n",
       "3  67.85.42.18  \"English\"  \"{}\"  29           L  JK03850S  combined   \n",
       "4  67.85.42.18  \"English\"  \"{}\"  29           L  JK03850S  combined   \n",
       "\n",
       "  counterbalance  display                                        explanation  \\\n",
       "0              1        0  \"We seemed to agree on just using zop for the ...   \n",
       "1              1        3  \"We seemed to agree on just using zop for the ...   \n",
       "2              1        0  \"We seemed to agree on just using zop for the ...   \n",
       "3              1        0  \"We seemed to agree on just using zop for the ...   \n",
       "4              1        2  \"We seemed to agree on just using zop for the ...   \n",
       "\n",
       "  gender    label pairnum         timestamp  trial       workerID label_type  \\\n",
       "0   Male      zop       1  14:16 18/11/2015      1  ARVXIBUCA8WDZ      short   \n",
       "1   Male  zopudon       1  14:16 18/11/2015      2  ARVXIBUCA8WDZ       long   \n",
       "2   Male      zop       1  14:16 18/11/2015      3  ARVXIBUCA8WDZ      short   \n",
       "3   Male  zopekil       1  14:16 18/11/2015      4  ARVXIBUCA8WDZ       long   \n",
       "4   Male  zopudon       1  14:16 18/11/2015      5  ARVXIBUCA8WDZ       long   \n",
       "\n",
       "  display_type  \n",
       "0     frequent  \n",
       "1   infrequent  \n",
       "2     frequent  \n",
       "3     frequent  \n",
       "4   infrequent  "
      ]
     },
     "execution_count": 14,
     "metadata": {},
     "output_type": "execute_result"
    }
   ],
   "source": [
    "df_agg.head()"
   ]
  },
  {
   "cell_type": "markdown",
   "metadata": {},
   "source": [
    "### Preprocessing\n",
    "\n",
    "Fill missing rows (e.g. some participants never used `short` in `frequent` `accuracy` condition)"
   ]
  },
  {
   "cell_type": "code",
   "execution_count": 15,
   "metadata": {
    "collapsed": true
   },
   "outputs": [],
   "source": [
    "def append_new_rows(x, missing_display_types, missing_label_types):\n",
    "    n = len(missing_display_types)\n",
    "    new_df = pd.DataFrame({\n",
    "        'IP':           np.repeat(set(x['IP']).pop(), n),\n",
    "        'condition':    np.repeat(set(x['condition']).pop(), n),\n",
    "        'display_type': missing_display_types,\n",
    "        'label_type':   missing_label_types,\n",
    "        'cnt':          np.repeat(0, n)\n",
    "    })\n",
    "    x = x \\\n",
    "        .append(new_df) \\\n",
    "        .reset_index()\n",
    "    return x\n",
    "\n",
    "def fill_missing_rows(x):\n",
    "    all_combns = set([\n",
    "        ('frequent', 'long'), \n",
    "        ('infrequent', 'short'), \n",
    "        ('frequent', 'short'), \n",
    "        ('infrequent', 'long')])\n",
    "\n",
    "    available_items = set(list(zip(x['display_type'], x['label_type'])))\n",
    "    missing_items = all_combns - available_items\n",
    "    missing_display_types = [d for (d, l) in missing_items]\n",
    "    missing_label_types = [l for (d, l) in missing_items]\n",
    "    x = append_new_rows(x, missing_display_types, missing_label_types)\n",
    "    return x\n",
    "    \n",
    "def label_props(x):\n",
    "    x['prop'] = x['cnt'] / sum(x['cnt'])\n",
    "    return x"
   ]
  },
  {
   "cell_type": "code",
   "execution_count": 16,
   "metadata": {
    "collapsed": true
   },
   "outputs": [],
   "source": [
    "df_agg_fig3 = df_agg \\\n",
    "    .groupby(['IP', 'condition', 'display_type', 'label_type']) \\\n",
    "    .count()['L1'] \\\n",
    "    .reset_index() \\\n",
    "    .rename(columns={'L1':'cnt'}) \\\n",
    "    .groupby(['IP', 'condition']) \\\n",
    "    .apply(fill_missing_rows) \\\n",
    "    .set_index(['IP']) \\\n",
    "    .reset_index() \\\n",
    "    .drop(columns=['index']) \\\n",
    "    .groupby(['IP', 'condition', 'display_type']) \\\n",
    "    .apply(label_props) \\\n",
    "    .drop(columns=['cnt']) \\\n",
    "    .query('label_type == \"short\"') \\\n",
    "    .pivot_table(values='prop', index=['IP', 'condition'], columns=['display_type']) \\\n",
    "    .reset_index()"
   ]
  },
  {
   "cell_type": "markdown",
   "metadata": {},
   "source": [
    "Output to CSV"
   ]
  },
  {
   "cell_type": "code",
   "execution_count": 17,
   "metadata": {
    "collapsed": true
   },
   "outputs": [],
   "source": [
    "# df_agg_fig3.to_csv('kanwal-preprocessed.csv')"
   ]
  },
  {
   "cell_type": "markdown",
   "metadata": {},
   "source": [
    "## Reproducing fig 3\n",
    "\n",
    "Note that this analysis looks slightly different likely because they only used data from the **second half of testing trials!**"
   ]
  },
  {
   "cell_type": "code",
   "execution_count": 18,
   "metadata": {},
   "outputs": [
    {
     "data": {
      "image/png": "[encoded data removed]",
      "text/plain": [
       "<matplotlib.figure.Figure at 0x10cc85710>"
      ]
     },
     "metadata": {},
     "output_type": "display_data"
    }
   ],
   "source": [
    "p1 = sns.FacetGrid(col='condition', hue='condition', data=df_agg_fig3)\n",
    "p1 = p1.map(plt.scatter, \"frequent\", \"infrequent\", alpha=0.5)"
   ]
  },
  {
   "cell_type": "code",
   "execution_count": 19,
   "metadata": {
    "collapsed": true
   },
   "outputs": [],
   "source": [
    "second_half_filter = \\\n",
    "    (df_agg['trial'] >= 16) & ((df_agg['condition'] == 'combined') | (df_agg['condition'] == 'accuracy')) | \\\n",
    "    (df_agg['trial'] >= 32) & ((df_agg['condition'] == 'time') | (df_agg['condition'] == 'neither'))"
   ]
  },
  {
   "cell_type": "markdown",
   "metadata": {},
   "source": [
    "### Reproducing Fig3 - only using second half data...\n",
    "\n",
    "Plot still looks different"
   ]
  },
  {
   "cell_type": "code",
   "execution_count": 20,
   "metadata": {
    "collapsed": true
   },
   "outputs": [],
   "source": [
    "df_fig3_second_half = df_agg[second_half_filter] \\\n",
    "    .groupby(['IP', 'condition', 'display_type', 'label_type']) \\\n",
    "    .count()['L1'] \\\n",
    "    .reset_index() \\\n",
    "    .rename(columns={'L1':'cnt'}) \\\n",
    "    .groupby(['IP', 'condition']) \\\n",
    "    .apply(fill_missing_rows) \\\n",
    "    .set_index(['IP']) \\\n",
    "    .reset_index() \\\n",
    "    .drop(columns=['index']) \\\n",
    "    .groupby(['IP', 'condition', 'display_type']) \\\n",
    "    .apply(label_props) \\\n",
    "    .drop(columns=['cnt']) \\\n",
    "    .query('label_type == \"short\"') \\\n",
    "    .pivot_table(values='prop', index=['IP', 'condition'], columns=['display_type']) \\\n",
    "    .reset_index()"
   ]
  },
  {
   "cell_type": "code",
   "execution_count": 21,
   "metadata": {},
   "outputs": [
    {
     "data": {
      "image/png": "[encoded data removed]",
      "text/plain": [
       "<matplotlib.figure.Figure at 0x10cc852b0>"
      ]
     },
     "metadata": {},
     "output_type": "display_data"
    }
   ],
   "source": [
    "p2 = sns.FacetGrid(col='condition', hue='condition', data=df_fig3_second_half)\n",
    "p2 = p2.map(plt.scatter, \"frequent\", \"infrequent\", alpha=0.5)"
   ]
  },
  {
   "cell_type": "markdown",
   "metadata": {},
   "source": [
    "# Data for BDA\n",
    "\n",
    "* Note: This is data we can pass to `kanwal-BDA-2015.wppl`. That is, we'd like to infer various \"strategies\" employed by the participants (operationalized viz-a-viz the hyperparameters). Need a more explicit description of those.\n",
    "\n",
    "* Once the prototype BDA / posterior predictive is working need to figure out how to deal with full dataset."
   ]
  },
  {
   "cell_type": "markdown",
   "metadata": {},
   "source": [
    "### Combined condition\n",
    "\n",
    "Data for fitting hyperparams"
   ]
  },
  {
   "cell_type": "code",
   "execution_count": 22,
   "metadata": {},
   "outputs": [
    {
     "data": {
      "text/plain": [
       "True"
      ]
     },
     "execution_count": 22,
     "metadata": {},
     "output_type": "execute_result"
    }
   ],
   "source": [
    "def diag_top(x, y):\n",
    "    return y <= (0.88*x + 0.2)\n",
    "\n",
    "def diag_bottom(x, y):\n",
    "    return y >= (1.12*x-0.2)\n",
    "\n",
    "def y_axis(x, y):\n",
    "    return y <= -5 * (x-0.2)\n",
    "\n",
    "def x_axis(x, y):\n",
    "    return y <= -0.2*x + 0.2\n",
    "\n",
    "def is_in_modelable_area(x, y):\n",
    "    \"\"\"Filter modelable data. \n",
    "    \n",
    "    This is currently a huerstic approach that needs to be changed.\n",
    "    Some participant are behaving in distinctly sub-optimal ways that either reflect\n",
    "    convention formation or randomness (see Kanwal, 2017). Ideally, we could also capture\n",
    "    that behavior, but for this proof-of concept we keep it to this.\n",
    "    \"\"\"\n",
    "    return (diag_top(x, y) and diag_bottom(x, y)) or (y_axis(x, y) or x_axis(x, y))\n",
    "\n",
    "is_in_modelable_area(0.0, 0.5)"
   ]
  },
  {
   "cell_type": "code",
   "execution_count": 23,
   "metadata": {
    "collapsed": true
   },
   "outputs": [],
   "source": [
    "df_agg_fig3['isModelable'] = df_agg_fig3 \\\n",
    "    .apply(lambda x: is_in_modelable_area(x['frequent'], x['infrequent']), axis=1)\n",
    "df_agg_fig3 = df_agg_fig3 \\\n",
    "    .assign(\n",
    "        frequent=lambda x: round(x.frequent, 2),\n",
    "        infrequent=lambda x: round(x.infrequent, 2))"
   ]
  },
  {
   "cell_type": "markdown",
   "metadata": {},
   "source": [
    "### Problem participants"
   ]
  },
  {
   "cell_type": "code",
   "execution_count": 24,
   "metadata": {},
   "outputs": [
    {
     "name": "stdout",
     "output_type": "stream",
     "text": [
      "num:\t105\n",
      "display_type               IP condition  frequent  infrequent  isModelable\n",
      "10            108.196.136.202  accuracy      0.12        0.62        False\n",
      "13             108.250.206.38   neither      0.58        0.25        False\n",
      "19              117.217.210.9   neither      0.04        0.81        False\n",
      "21              122.161.26.31  combined      0.42        0.62        False\n",
      "36             184.155.134.46      time      0.69        0.56        False\n",
      "40             200.106.22.194  accuracy      0.54        0.12        False\n",
      "45              24.113.49.186      time      0.58        0.19        False\n",
      "50              24.20.229.200  combined      0.96        0.12        False\n",
      "51             24.253.233.194  combined      0.96        0.12        False\n",
      "54               24.74.13.244      time      0.69        0.31        False\n",
      "58             50.153.162.232  combined      0.75        0.25        False\n",
      "64                59.93.15.89  combined      0.62        0.12        False\n",
      "67             65.183.140.246  combined      0.92        0.38        False\n",
      "73               67.44.208.28      time      0.67        0.38        False\n",
      "85               70.198.5.150   neither      0.96        0.06        False\n",
      "92              72.182.90.103  combined      0.67        0.12        False\n",
      "116              98.169.35.68  combined      0.92        0.50        False\n",
      "122             99.53.101.206   neither      0.46        0.69        False\n"
     ]
    }
   ],
   "source": [
    "print('num:\\t{}'.format(len(df_agg_fig3.query('isModelable'))))\n",
    "\n",
    "with pd.option_context('display.max_rows', None):\n",
    "    print(df_agg_fig3.query('not isModelable'))"
   ]
  },
  {
   "cell_type": "code",
   "execution_count": 25,
   "metadata": {},
   "outputs": [
    {
     "data": {
      "image/png": "[encoded data removed]",
      "text/plain": [
       "<matplotlib.figure.Figure at 0x1a0e0cce80>"
      ]
     },
     "metadata": {},
     "output_type": "display_data"
    }
   ],
   "source": [
    "df_problems = df_agg_fig3.query('not isModelable')\n",
    "p0 = sns.FacetGrid(col='condition', hue='condition', col_order=['accuracy', 'time', 'combined', 'other'], data=df_problems)\n",
    "p0 = p0.map(plt.scatter, \"frequent\", \"infrequent\", alpha=0.5)"
   ]
  },
  {
   "cell_type": "code",
   "execution_count": 26,
   "metadata": {
    "collapsed": true
   },
   "outputs": [],
   "source": [
    "df_modelable = df_agg_fig3.query('isModelable')"
   ]
  },
  {
   "cell_type": "code",
   "execution_count": 27,
   "metadata": {},
   "outputs": [
    {
     "name": "stdout",
     "output_type": "stream",
     "text": [
      "Percentage of respondents modelable:\t0.8536585365853658\n"
     ]
    }
   ],
   "source": [
    "# df_modelable.drop(columns='isModelable').to_json(\"modelable-data-20180330.json\", orient='records')\n",
    "# df_modelable.drop(columns='isModelable').to_csv(\"modelable-data-20180330.csv\")\n",
    "print(\"Percentage of respondents modelable:\\t{}\".format(len(df_modelable) / len(df_agg_fig3)))"
   ]
  },
  {
   "cell_type": "markdown",
   "metadata": {},
   "source": [
    "## Model output\n",
    "\n",
    "#### Combination"
   ]
  },
  {
   "cell_type": "markdown",
   "metadata": {},
   "source": [
    "### TEst"
   ]
  },
  {
   "cell_type": "code",
   "execution_count": 34,
   "metadata": {
    "collapsed": true
   },
   "outputs": [],
   "source": [
    "f_test = './json/synthetic-exp-data-20180330.json'"
   ]
  },
  {
   "cell_type": "code",
   "execution_count": 35,
   "metadata": {},
   "outputs": [
    {
     "ename": "ValueError",
     "evalue": "Expected object or value",
     "output_type": "error",
     "traceback": [
      "\u001b[0;31m---------------------------------------------------------------------------\u001b[0m",
      "\u001b[0;31mValueError\u001b[0m                                Traceback (most recent call last)",
      "\u001b[0;32m<ipython-input-35-475a9a548c9d>\u001b[0m in \u001b[0;36m<module>\u001b[0;34m()\u001b[0m\n\u001b[0;32m----> 1\u001b[0;31m \u001b[0mdf_test\u001b[0m \u001b[0;34m=\u001b[0m \u001b[0mpd\u001b[0m\u001b[0;34m.\u001b[0m\u001b[0mread_json\u001b[0m\u001b[0;34m(\u001b[0m\u001b[0mf_test\u001b[0m\u001b[0;34m,\u001b[0m \u001b[0morient\u001b[0m\u001b[0;34m=\u001b[0m\u001b[0;34m'records'\u001b[0m\u001b[0;34m)\u001b[0m\u001b[0;34m\u001b[0m\u001b[0m\n\u001b[0m\u001b[1;32m      2\u001b[0m \u001b[0mdf_test\u001b[0m \u001b[0;34m=\u001b[0m \u001b[0mdf_test\u001b[0m\u001b[0;34m.\u001b[0m\u001b[0mrename\u001b[0m\u001b[0;34m(\u001b[0m\u001b[0mcolumns\u001b[0m\u001b[0;34m=\u001b[0m\u001b[0;34m{\u001b[0m\u001b[0;34m'trialType'\u001b[0m\u001b[0;34m:\u001b[0m\u001b[0;34m'display_type'\u001b[0m\u001b[0;34m,\u001b[0m \u001b[0;34m'participantNum'\u001b[0m\u001b[0;34m:\u001b[0m\u001b[0;34m'IP'\u001b[0m\u001b[0;34m}\u001b[0m\u001b[0;34m)\u001b[0m\u001b[0;34m\u001b[0m\u001b[0m\n\u001b[1;32m      3\u001b[0m \u001b[0mdf_test\u001b[0m\u001b[0;34m[\u001b[0m\u001b[0;34m'label_type'\u001b[0m\u001b[0;34m]\u001b[0m \u001b[0;34m=\u001b[0m \u001b[0;34m[\u001b[0m\u001b[0;34m'short'\u001b[0m \u001b[0;32mif\u001b[0m \u001b[0mu\u001b[0m \u001b[0;34m==\u001b[0m \u001b[0;34m'zop'\u001b[0m \u001b[0;32melse\u001b[0m \u001b[0;34m'long'\u001b[0m \u001b[0;32mfor\u001b[0m \u001b[0mu\u001b[0m \u001b[0;32min\u001b[0m \u001b[0mdf_test\u001b[0m\u001b[0;34m[\u001b[0m\u001b[0;34m'utterance'\u001b[0m\u001b[0;34m]\u001b[0m\u001b[0;34m]\u001b[0m\u001b[0;34m\u001b[0m\u001b[0m\n",
      "\u001b[0;32m/Users/benpeloquin/anaconda/lib/python3.6/site-packages/pandas/io/json/json.py\u001b[0m in \u001b[0;36mread_json\u001b[0;34m(path_or_buf, orient, typ, dtype, convert_axes, convert_dates, keep_default_dates, numpy, precise_float, date_unit, encoding, lines, chunksize, compression)\u001b[0m\n\u001b[1;32m    364\u001b[0m         \u001b[0;32mreturn\u001b[0m \u001b[0mjson_reader\u001b[0m\u001b[0;34m\u001b[0m\u001b[0m\n\u001b[1;32m    365\u001b[0m \u001b[0;34m\u001b[0m\u001b[0m\n\u001b[0;32m--> 366\u001b[0;31m     \u001b[0;32mreturn\u001b[0m \u001b[0mjson_reader\u001b[0m\u001b[0;34m.\u001b[0m\u001b[0mread\u001b[0m\u001b[0;34m(\u001b[0m\u001b[0;34m)\u001b[0m\u001b[0;34m\u001b[0m\u001b[0m\n\u001b[0m\u001b[1;32m    367\u001b[0m \u001b[0;34m\u001b[0m\u001b[0m\n\u001b[1;32m    368\u001b[0m \u001b[0;34m\u001b[0m\u001b[0m\n",
      "\u001b[0;32m/Users/benpeloquin/anaconda/lib/python3.6/site-packages/pandas/io/json/json.py\u001b[0m in \u001b[0;36mread\u001b[0;34m(self)\u001b[0m\n\u001b[1;32m    463\u001b[0m             )\n\u001b[1;32m    464\u001b[0m         \u001b[0;32melse\u001b[0m\u001b[0;34m:\u001b[0m\u001b[0;34m\u001b[0m\u001b[0m\n\u001b[0;32m--> 465\u001b[0;31m             \u001b[0mobj\u001b[0m \u001b[0;34m=\u001b[0m \u001b[0mself\u001b[0m\u001b[0;34m.\u001b[0m\u001b[0m_get_object_parser\u001b[0m\u001b[0;34m(\u001b[0m\u001b[0mself\u001b[0m\u001b[0;34m.\u001b[0m\u001b[0mdata\u001b[0m\u001b[0;34m)\u001b[0m\u001b[0;34m\u001b[0m\u001b[0m\n\u001b[0m\u001b[1;32m    466\u001b[0m         \u001b[0mself\u001b[0m\u001b[0;34m.\u001b[0m\u001b[0mclose\u001b[0m\u001b[0;34m(\u001b[0m\u001b[0;34m)\u001b[0m\u001b[0;34m\u001b[0m\u001b[0m\n\u001b[1;32m    467\u001b[0m         \u001b[0;32mreturn\u001b[0m \u001b[0mobj\u001b[0m\u001b[0;34m\u001b[0m\u001b[0m\n",
      "\u001b[0;32m/Users/benpeloquin/anaconda/lib/python3.6/site-packages/pandas/io/json/json.py\u001b[0m in \u001b[0;36m_get_object_parser\u001b[0;34m(self, json)\u001b[0m\n\u001b[1;32m    480\u001b[0m         \u001b[0mobj\u001b[0m \u001b[0;34m=\u001b[0m \u001b[0;32mNone\u001b[0m\u001b[0;34m\u001b[0m\u001b[0m\n\u001b[1;32m    481\u001b[0m         \u001b[0;32mif\u001b[0m \u001b[0mtyp\u001b[0m \u001b[0;34m==\u001b[0m \u001b[0;34m'frame'\u001b[0m\u001b[0;34m:\u001b[0m\u001b[0;34m\u001b[0m\u001b[0m\n\u001b[0;32m--> 482\u001b[0;31m             \u001b[0mobj\u001b[0m \u001b[0;34m=\u001b[0m \u001b[0mFrameParser\u001b[0m\u001b[0;34m(\u001b[0m\u001b[0mjson\u001b[0m\u001b[0;34m,\u001b[0m \u001b[0;34m**\u001b[0m\u001b[0mkwargs\u001b[0m\u001b[0;34m)\u001b[0m\u001b[0;34m.\u001b[0m\u001b[0mparse\u001b[0m\u001b[0;34m(\u001b[0m\u001b[0;34m)\u001b[0m\u001b[0;34m\u001b[0m\u001b[0m\n\u001b[0m\u001b[1;32m    483\u001b[0m \u001b[0;34m\u001b[0m\u001b[0m\n\u001b[1;32m    484\u001b[0m         \u001b[0;32mif\u001b[0m \u001b[0mtyp\u001b[0m \u001b[0;34m==\u001b[0m \u001b[0;34m'series'\u001b[0m \u001b[0;32mor\u001b[0m \u001b[0mobj\u001b[0m \u001b[0;32mis\u001b[0m \u001b[0;32mNone\u001b[0m\u001b[0;34m:\u001b[0m\u001b[0;34m\u001b[0m\u001b[0m\n",
      "\u001b[0;32m/Users/benpeloquin/anaconda/lib/python3.6/site-packages/pandas/io/json/json.py\u001b[0m in \u001b[0;36mparse\u001b[0;34m(self)\u001b[0m\n\u001b[1;32m    572\u001b[0m \u001b[0;34m\u001b[0m\u001b[0m\n\u001b[1;32m    573\u001b[0m         \u001b[0;32melse\u001b[0m\u001b[0;34m:\u001b[0m\u001b[0;34m\u001b[0m\u001b[0m\n\u001b[0;32m--> 574\u001b[0;31m             \u001b[0mself\u001b[0m\u001b[0;34m.\u001b[0m\u001b[0m_parse_no_numpy\u001b[0m\u001b[0;34m(\u001b[0m\u001b[0;34m)\u001b[0m\u001b[0;34m\u001b[0m\u001b[0m\n\u001b[0m\u001b[1;32m    575\u001b[0m \u001b[0;34m\u001b[0m\u001b[0m\n\u001b[1;32m    576\u001b[0m         \u001b[0;32mif\u001b[0m \u001b[0mself\u001b[0m\u001b[0;34m.\u001b[0m\u001b[0mobj\u001b[0m \u001b[0;32mis\u001b[0m \u001b[0;32mNone\u001b[0m\u001b[0;34m:\u001b[0m\u001b[0;34m\u001b[0m\u001b[0m\n",
      "\u001b[0;32m/Users/benpeloquin/anaconda/lib/python3.6/site-packages/pandas/io/json/json.py\u001b[0m in \u001b[0;36m_parse_no_numpy\u001b[0;34m(self)\u001b[0m\n\u001b[1;32m    802\u001b[0m         \u001b[0;32melse\u001b[0m\u001b[0;34m:\u001b[0m\u001b[0;34m\u001b[0m\u001b[0m\n\u001b[1;32m    803\u001b[0m             self.obj = DataFrame(\n\u001b[0;32m--> 804\u001b[0;31m                 loads(json, precise_float=self.precise_float), dtype=None)\n\u001b[0m\u001b[1;32m    805\u001b[0m \u001b[0;34m\u001b[0m\u001b[0m\n\u001b[1;32m    806\u001b[0m     \u001b[0;32mdef\u001b[0m \u001b[0m_process_converter\u001b[0m\u001b[0;34m(\u001b[0m\u001b[0mself\u001b[0m\u001b[0;34m,\u001b[0m \u001b[0mf\u001b[0m\u001b[0;34m,\u001b[0m \u001b[0mfilt\u001b[0m\u001b[0;34m=\u001b[0m\u001b[0;32mNone\u001b[0m\u001b[0;34m)\u001b[0m\u001b[0;34m:\u001b[0m\u001b[0;34m\u001b[0m\u001b[0m\n",
      "\u001b[0;31mValueError\u001b[0m: Expected object or value"
     ]
    }
   ],
   "source": [
    "df_test = pd.read_json(f_test, orient='records')\n",
    "df_test = df_test.rename(columns={'trialType':'display_type', 'participantNum':'IP'})\n",
    "df_test['label_type'] = ['short' if u == 'zop' else 'long' for u in df_test['utterance']]"
   ]
  },
  {
   "cell_type": "code",
   "execution_count": 42,
   "metadata": {
    "collapsed": true
   },
   "outputs": [],
   "source": [
    "def normer(x):\n",
    "    x['prop'] = x['cnt'] / np.sum(x['cnt'])\n",
    "    return x\n",
    "\n",
    "def get_label_type(x):\n",
    "    pdb.set_trace()\n",
    "    x['label_type'] = 'short' if x['utterance'] == 'zop' else 'long'\n",
    "    return x\n",
    "    \n",
    "\n",
    "df_props = df_test \\\n",
    "    .groupby(['condition', 'IP', 'display_type', 'label_type']) \\\n",
    "    .count()[['trialNum']] \\\n",
    "    .rename(columns={'trialNum': 'cnt'}) \\\n",
    "    .reset_index() \\\n",
    "    .groupby(['condition', 'IP']) \\\n",
    "    .apply(fill_missing_rows) \\\n",
    "    .drop(columns='index') \\\n",
    "    .set_index(['IP']) \\\n",
    "    .reset_index() \\\n",
    "    .groupby(['condition', 'IP', 'display_type']) \\\n",
    "    .apply(normer) \\\n",
    "    .drop(columns=['cnt']) \\\n",
    "    .query('label_type == \"short\"') \\\n",
    "    .reset_index() \\\n",
    "    .drop(columns='index') \\\n",
    "    .pivot_table(values='prop', index=['condition', 'IP'], columns=['display_type']) \\\n",
    "    .reset_index()"
   ]
  },
  {
   "cell_type": "code",
   "execution_count": 43,
   "metadata": {},
   "outputs": [
    {
     "data": {
      "text/html": [
       "<div>\n",
       "<style scoped>\n",
       "    .dataframe tbody tr th:only-of-type {\n",
       "        vertical-align: middle;\n",
       "    }\n",
       "\n",
       "    .dataframe tbody tr th {\n",
       "        vertical-align: top;\n",
       "    }\n",
       "\n",
       "    .dataframe thead th {\n",
       "        text-align: right;\n",
       "    }\n",
       "</style>\n",
       "<table border=\"1\" class=\"dataframe\">\n",
       "  <thead>\n",
       "    <tr style=\"text-align: right;\">\n",
       "      <th>display_type</th>\n",
       "      <th>condition</th>\n",
       "      <th>IP</th>\n",
       "      <th>frequent</th>\n",
       "      <th>infrequent</th>\n",
       "    </tr>\n",
       "  </thead>\n",
       "  <tbody>\n",
       "    <tr>\n",
       "      <th>0</th>\n",
       "      <td>accuracy</td>\n",
       "      <td>104.11.62.66</td>\n",
       "      <td>0.000000</td>\n",
       "      <td>0.0</td>\n",
       "    </tr>\n",
       "    <tr>\n",
       "      <th>1</th>\n",
       "      <td>accuracy</td>\n",
       "      <td>104.175.214.163</td>\n",
       "      <td>0.000000</td>\n",
       "      <td>0.0</td>\n",
       "    </tr>\n",
       "    <tr>\n",
       "      <th>2</th>\n",
       "      <td>accuracy</td>\n",
       "      <td>107.13.61.217</td>\n",
       "      <td>0.000000</td>\n",
       "      <td>0.0</td>\n",
       "    </tr>\n",
       "    <tr>\n",
       "      <th>3</th>\n",
       "      <td>accuracy</td>\n",
       "      <td>107.2.1.30</td>\n",
       "      <td>0.000000</td>\n",
       "      <td>0.0</td>\n",
       "    </tr>\n",
       "    <tr>\n",
       "      <th>4</th>\n",
       "      <td>accuracy</td>\n",
       "      <td>108.210.65.252</td>\n",
       "      <td>0.000000</td>\n",
       "      <td>0.0</td>\n",
       "    </tr>\n",
       "    <tr>\n",
       "      <th>5</th>\n",
       "      <td>accuracy</td>\n",
       "      <td>108.23.68.36</td>\n",
       "      <td>0.000000</td>\n",
       "      <td>0.0</td>\n",
       "    </tr>\n",
       "    <tr>\n",
       "      <th>6</th>\n",
       "      <td>accuracy</td>\n",
       "      <td>115.241.81.138</td>\n",
       "      <td>0.000000</td>\n",
       "      <td>0.0</td>\n",
       "    </tr>\n",
       "    <tr>\n",
       "      <th>7</th>\n",
       "      <td>accuracy</td>\n",
       "      <td>115.242.129.102</td>\n",
       "      <td>0.000000</td>\n",
       "      <td>0.0</td>\n",
       "    </tr>\n",
       "    <tr>\n",
       "      <th>8</th>\n",
       "      <td>accuracy</td>\n",
       "      <td>115.98.55.114</td>\n",
       "      <td>0.000000</td>\n",
       "      <td>0.0</td>\n",
       "    </tr>\n",
       "    <tr>\n",
       "      <th>9</th>\n",
       "      <td>combined</td>\n",
       "      <td>107.161.163.8</td>\n",
       "      <td>0.041667</td>\n",
       "      <td>0.0</td>\n",
       "    </tr>\n",
       "    <tr>\n",
       "      <th>10</th>\n",
       "      <td>combined</td>\n",
       "      <td>115.99.18.32</td>\n",
       "      <td>0.333333</td>\n",
       "      <td>0.0</td>\n",
       "    </tr>\n",
       "    <tr>\n",
       "      <th>11</th>\n",
       "      <td>combined</td>\n",
       "      <td>117.213.33.129</td>\n",
       "      <td>0.000000</td>\n",
       "      <td>0.0</td>\n",
       "    </tr>\n",
       "    <tr>\n",
       "      <th>12</th>\n",
       "      <td>combined</td>\n",
       "      <td>122.161.26.31</td>\n",
       "      <td>0.352941</td>\n",
       "      <td>NaN</td>\n",
       "    </tr>\n",
       "    <tr>\n",
       "      <th>13</th>\n",
       "      <td>time</td>\n",
       "      <td>104.57.161.213</td>\n",
       "      <td>1.000000</td>\n",
       "      <td>1.0</td>\n",
       "    </tr>\n",
       "  </tbody>\n",
       "</table>\n",
       "</div>"
      ],
      "text/plain": [
       "display_type condition               IP  frequent  infrequent\n",
       "0             accuracy     104.11.62.66  0.000000         0.0\n",
       "1             accuracy  104.175.214.163  0.000000         0.0\n",
       "2             accuracy    107.13.61.217  0.000000         0.0\n",
       "3             accuracy       107.2.1.30  0.000000         0.0\n",
       "4             accuracy   108.210.65.252  0.000000         0.0\n",
       "5             accuracy     108.23.68.36  0.000000         0.0\n",
       "6             accuracy   115.241.81.138  0.000000         0.0\n",
       "7             accuracy  115.242.129.102  0.000000         0.0\n",
       "8             accuracy    115.98.55.114  0.000000         0.0\n",
       "9             combined    107.161.163.8  0.041667         0.0\n",
       "10            combined     115.99.18.32  0.333333         0.0\n",
       "11            combined   117.213.33.129  0.000000         0.0\n",
       "12            combined    122.161.26.31  0.352941         NaN\n",
       "13                time   104.57.161.213  1.000000         1.0"
      ]
     },
     "execution_count": 43,
     "metadata": {},
     "output_type": "execute_result"
    }
   ],
   "source": [
    "df_props"
   ]
  },
  {
   "cell_type": "code",
   "execution_count": 34,
   "metadata": {},
   "outputs": [
    {
     "data": {
      "image/png": "[encoded data removed]",
      "text/plain": [
       "<matplotlib.figure.Figure at 0x1a0a6f1400>"
      ]
     },
     "metadata": {},
     "output_type": "display_data"
    }
   ],
   "source": [
    "p3 = sns.FacetGrid(col='condition', hue='condition', col_order=['accuracy', 'time', 'combined', 'other'], data=df_props)\n",
    "p3 = p3.map(plt.scatter, \"frequent\", \"infrequent\", alpha=0.5)"
   ]
  },
  {
   "cell_type": "code",
   "execution_count": 35,
   "metadata": {
    "collapsed": true
   },
   "outputs": [],
   "source": [
    "f_combination = 'combination.json'\n",
    "f_accuracy = 'accuracy.json'\n",
    "f_time = 'time.json'\n",
    "f_other = 'other.json'\n",
    "df_synthetic = pd.read_json(f_accuracy, orient='records') \\\n",
    "    .append([pd.read_json(f_time, orient='records'), \n",
    "             pd.read_json(f_combination, orient='records'),\n",
    "             pd.read_json(f_other, orient='records')])"
   ]
  },
  {
   "cell_type": "markdown",
   "metadata": {},
   "source": [
    "### Purely synthetic"
   ]
  },
  {
   "cell_type": "code",
   "execution_count": 36,
   "metadata": {
    "collapsed": true
   },
   "outputs": [],
   "source": [
    "df_synthetic = df_synthetic.rename(columns={'trialType':'display_type', 'participantNum':'IP'})\n",
    "df_synthetic['label_type'] = ['short' if u == 'zop' else 'long' for u in df_synthetic['utterance']]"
   ]
  },
  {
   "cell_type": "code",
   "execution_count": 37,
   "metadata": {
    "collapsed": true
   },
   "outputs": [],
   "source": [
    "def normer(x):\n",
    "    x['prop'] = x['cnt'] / np.sum(x['cnt'])\n",
    "    return x\n",
    "\n",
    "def get_label_type(x):\n",
    "    pdb.set_trace()\n",
    "    x['label_type'] = 'short' if x['utterance'] == 'zop' else 'long'\n",
    "    return x\n",
    "    \n",
    "\n",
    "df_props = df_synthetic \\\n",
    "    .groupby(['condition', 'IP', 'display_type', 'label_type']) \\\n",
    "    .count()[['trialNum']] \\\n",
    "    .rename(columns={'trialNum': 'cnt'}) \\\n",
    "    .reset_index() \\\n",
    "    .groupby(['condition', 'IP']) \\\n",
    "    .apply(fill_missing_rows) \\\n",
    "    .drop(columns='index') \\\n",
    "    .set_index(['IP']) \\\n",
    "    .reset_index() \\\n",
    "    .groupby(['condition', 'IP', 'display_type']) \\\n",
    "    .apply(normer) \\\n",
    "    .drop(columns=['cnt']) \\\n",
    "    .query('label_type == \"short\"') \\\n",
    "    .reset_index() \\\n",
    "    .drop(columns='index') \\\n",
    "    .pivot_table(values='prop', index=['condition', 'IP'], columns=['display_type']) \\\n",
    "    .reset_index()\n"
   ]
  },
  {
   "cell_type": "code",
   "execution_count": 38,
   "metadata": {
    "collapsed": true,
    "scrolled": true
   },
   "outputs": [],
   "source": [
    "# p = sns.lmplot(x='frequent', y='infrequent', hue='condition',\n",
    "#                 fit_reg=False, y_jitter=0.1,\n",
    "#                 scatter_kws={'alpha':0.5}, data=df_props)\n",
    "# plt.xlim(0, 1)\n",
    "# plt.ylim(0, 1)"
   ]
  },
  {
   "cell_type": "code",
   "execution_count": 39,
   "metadata": {},
   "outputs": [
    {
     "data": {
      "image/png": "[encoded data removed]",
      "text/plain": [
       "<matplotlib.figure.Figure at 0x1a0a789b70>"
      ]
     },
     "metadata": {},
     "output_type": "display_data"
    }
   ],
   "source": [
    "p3 = sns.FacetGrid(col='condition', hue='condition', col_order=['accuracy', 'time', 'combined', 'other'], data=df_props)\n",
    "p3 = p3.map(plt.scatter, \"frequent\", \"infrequent\", alpha=0.5)"
   ]
  },
  {
   "cell_type": "code",
   "execution_count": 218,
   "metadata": {},
   "outputs": [
    {
     "data": {
      "image/png": "[encoded data removed]",
      "text/plain": [
       "<matplotlib.figure.Figure at 0x1a18567128>"
      ]
     },
     "metadata": {},
     "output_type": "display_data"
    }
   ],
   "source": [
    "curr_df = df_fig3_second_half[df_fig3_second_half['condition'].isin(['time', 'accuracy', 'combined'])]\n",
    "p2 = sns.FacetGrid(col='condition', hue='condition', col_order=['accuracy', 'time', 'combined'], data=curr_df)\n",
    "p2 = p2.map(plt.scatter, \"frequent\", \"infrequent\", alpha=0.5)"
   ]
  },
  {
   "cell_type": "code",
   "execution_count": 100,
   "metadata": {},
   "outputs": [
    {
     "data": {
      "text/html": [
       "<div>\n",
       "<style scoped>\n",
       "    .dataframe tbody tr th:only-of-type {\n",
       "        vertical-align: middle;\n",
       "    }\n",
       "\n",
       "    .dataframe tbody tr th {\n",
       "        vertical-align: top;\n",
       "    }\n",
       "\n",
       "    .dataframe thead th {\n",
       "        text-align: right;\n",
       "    }\n",
       "</style>\n",
       "<table border=\"1\" class=\"dataframe\">\n",
       "  <thead>\n",
       "    <tr style=\"text-align: right;\">\n",
       "      <th>display_type</th>\n",
       "      <th>condition</th>\n",
       "      <th>IP</th>\n",
       "      <th>frequent</th>\n",
       "      <th>infrequent</th>\n",
       "    </tr>\n",
       "  </thead>\n",
       "  <tbody>\n",
       "    <tr>\n",
       "      <th>0</th>\n",
       "      <td>accuracy</td>\n",
       "      <td>0</td>\n",
       "      <td>0.083333</td>\n",
       "      <td>0.000</td>\n",
       "    </tr>\n",
       "    <tr>\n",
       "      <th>1</th>\n",
       "      <td>accuracy</td>\n",
       "      <td>1</td>\n",
       "      <td>0.000000</td>\n",
       "      <td>0.000</td>\n",
       "    </tr>\n",
       "    <tr>\n",
       "      <th>2</th>\n",
       "      <td>accuracy</td>\n",
       "      <td>2</td>\n",
       "      <td>0.000000</td>\n",
       "      <td>0.000</td>\n",
       "    </tr>\n",
       "    <tr>\n",
       "      <th>3</th>\n",
       "      <td>accuracy</td>\n",
       "      <td>3</td>\n",
       "      <td>0.083333</td>\n",
       "      <td>0.000</td>\n",
       "    </tr>\n",
       "    <tr>\n",
       "      <th>4</th>\n",
       "      <td>accuracy</td>\n",
       "      <td>4</td>\n",
       "      <td>0.000000</td>\n",
       "      <td>0.000</td>\n",
       "    </tr>\n",
       "    <tr>\n",
       "      <th>5</th>\n",
       "      <td>accuracy</td>\n",
       "      <td>5</td>\n",
       "      <td>0.041667</td>\n",
       "      <td>0.000</td>\n",
       "    </tr>\n",
       "    <tr>\n",
       "      <th>6</th>\n",
       "      <td>accuracy</td>\n",
       "      <td>6</td>\n",
       "      <td>0.000000</td>\n",
       "      <td>0.000</td>\n",
       "    </tr>\n",
       "    <tr>\n",
       "      <th>7</th>\n",
       "      <td>accuracy</td>\n",
       "      <td>7</td>\n",
       "      <td>0.041667</td>\n",
       "      <td>0.000</td>\n",
       "    </tr>\n",
       "    <tr>\n",
       "      <th>8</th>\n",
       "      <td>accuracy</td>\n",
       "      <td>8</td>\n",
       "      <td>0.041667</td>\n",
       "      <td>0.000</td>\n",
       "    </tr>\n",
       "    <tr>\n",
       "      <th>9</th>\n",
       "      <td>accuracy</td>\n",
       "      <td>9</td>\n",
       "      <td>0.041667</td>\n",
       "      <td>0.000</td>\n",
       "    </tr>\n",
       "    <tr>\n",
       "      <th>10</th>\n",
       "      <td>accuracy</td>\n",
       "      <td>10</td>\n",
       "      <td>0.041667</td>\n",
       "      <td>0.000</td>\n",
       "    </tr>\n",
       "    <tr>\n",
       "      <th>11</th>\n",
       "      <td>accuracy</td>\n",
       "      <td>11</td>\n",
       "      <td>0.041667</td>\n",
       "      <td>0.000</td>\n",
       "    </tr>\n",
       "    <tr>\n",
       "      <th>12</th>\n",
       "      <td>accuracy</td>\n",
       "      <td>12</td>\n",
       "      <td>0.000000</td>\n",
       "      <td>0.000</td>\n",
       "    </tr>\n",
       "    <tr>\n",
       "      <th>13</th>\n",
       "      <td>accuracy</td>\n",
       "      <td>13</td>\n",
       "      <td>0.041667</td>\n",
       "      <td>0.000</td>\n",
       "    </tr>\n",
       "    <tr>\n",
       "      <th>14</th>\n",
       "      <td>accuracy</td>\n",
       "      <td>14</td>\n",
       "      <td>0.083333</td>\n",
       "      <td>0.000</td>\n",
       "    </tr>\n",
       "    <tr>\n",
       "      <th>15</th>\n",
       "      <td>accuracy</td>\n",
       "      <td>15</td>\n",
       "      <td>0.000000</td>\n",
       "      <td>0.000</td>\n",
       "    </tr>\n",
       "    <tr>\n",
       "      <th>16</th>\n",
       "      <td>accuracy</td>\n",
       "      <td>16</td>\n",
       "      <td>0.083333</td>\n",
       "      <td>0.000</td>\n",
       "    </tr>\n",
       "    <tr>\n",
       "      <th>17</th>\n",
       "      <td>accuracy</td>\n",
       "      <td>17</td>\n",
       "      <td>0.083333</td>\n",
       "      <td>0.000</td>\n",
       "    </tr>\n",
       "    <tr>\n",
       "      <th>18</th>\n",
       "      <td>accuracy</td>\n",
       "      <td>18</td>\n",
       "      <td>0.000000</td>\n",
       "      <td>0.000</td>\n",
       "    </tr>\n",
       "    <tr>\n",
       "      <th>19</th>\n",
       "      <td>accuracy</td>\n",
       "      <td>19</td>\n",
       "      <td>0.000000</td>\n",
       "      <td>0.000</td>\n",
       "    </tr>\n",
       "    <tr>\n",
       "      <th>20</th>\n",
       "      <td>accuracy</td>\n",
       "      <td>20</td>\n",
       "      <td>0.041667</td>\n",
       "      <td>0.000</td>\n",
       "    </tr>\n",
       "    <tr>\n",
       "      <th>21</th>\n",
       "      <td>accuracy</td>\n",
       "      <td>21</td>\n",
       "      <td>0.041667</td>\n",
       "      <td>0.000</td>\n",
       "    </tr>\n",
       "    <tr>\n",
       "      <th>22</th>\n",
       "      <td>accuracy</td>\n",
       "      <td>22</td>\n",
       "      <td>0.000000</td>\n",
       "      <td>0.000</td>\n",
       "    </tr>\n",
       "    <tr>\n",
       "      <th>23</th>\n",
       "      <td>accuracy</td>\n",
       "      <td>23</td>\n",
       "      <td>0.000000</td>\n",
       "      <td>0.000</td>\n",
       "    </tr>\n",
       "    <tr>\n",
       "      <th>24</th>\n",
       "      <td>accuracy</td>\n",
       "      <td>24</td>\n",
       "      <td>0.000000</td>\n",
       "      <td>0.000</td>\n",
       "    </tr>\n",
       "    <tr>\n",
       "      <th>25</th>\n",
       "      <td>accuracy</td>\n",
       "      <td>25</td>\n",
       "      <td>0.041667</td>\n",
       "      <td>0.000</td>\n",
       "    </tr>\n",
       "    <tr>\n",
       "      <th>26</th>\n",
       "      <td>accuracy</td>\n",
       "      <td>26</td>\n",
       "      <td>0.041667</td>\n",
       "      <td>0.000</td>\n",
       "    </tr>\n",
       "    <tr>\n",
       "      <th>27</th>\n",
       "      <td>accuracy</td>\n",
       "      <td>27</td>\n",
       "      <td>0.000000</td>\n",
       "      <td>0.000</td>\n",
       "    </tr>\n",
       "    <tr>\n",
       "      <th>28</th>\n",
       "      <td>accuracy</td>\n",
       "      <td>28</td>\n",
       "      <td>0.041667</td>\n",
       "      <td>0.000</td>\n",
       "    </tr>\n",
       "    <tr>\n",
       "      <th>29</th>\n",
       "      <td>accuracy</td>\n",
       "      <td>29</td>\n",
       "      <td>0.000000</td>\n",
       "      <td>0.000</td>\n",
       "    </tr>\n",
       "    <tr>\n",
       "      <th>...</th>\n",
       "      <td>...</td>\n",
       "      <td>...</td>\n",
       "      <td>...</td>\n",
       "      <td>...</td>\n",
       "    </tr>\n",
       "    <tr>\n",
       "      <th>73</th>\n",
       "      <td>time</td>\n",
       "      <td>0</td>\n",
       "      <td>0.833333</td>\n",
       "      <td>0.875</td>\n",
       "    </tr>\n",
       "    <tr>\n",
       "      <th>74</th>\n",
       "      <td>time</td>\n",
       "      <td>1</td>\n",
       "      <td>0.916667</td>\n",
       "      <td>0.875</td>\n",
       "    </tr>\n",
       "    <tr>\n",
       "      <th>75</th>\n",
       "      <td>time</td>\n",
       "      <td>2</td>\n",
       "      <td>0.916667</td>\n",
       "      <td>1.000</td>\n",
       "    </tr>\n",
       "    <tr>\n",
       "      <th>76</th>\n",
       "      <td>time</td>\n",
       "      <td>3</td>\n",
       "      <td>0.791667</td>\n",
       "      <td>0.625</td>\n",
       "    </tr>\n",
       "    <tr>\n",
       "      <th>77</th>\n",
       "      <td>time</td>\n",
       "      <td>4</td>\n",
       "      <td>0.875000</td>\n",
       "      <td>0.875</td>\n",
       "    </tr>\n",
       "    <tr>\n",
       "      <th>78</th>\n",
       "      <td>time</td>\n",
       "      <td>5</td>\n",
       "      <td>0.791667</td>\n",
       "      <td>0.750</td>\n",
       "    </tr>\n",
       "    <tr>\n",
       "      <th>79</th>\n",
       "      <td>time</td>\n",
       "      <td>6</td>\n",
       "      <td>0.916667</td>\n",
       "      <td>0.750</td>\n",
       "    </tr>\n",
       "    <tr>\n",
       "      <th>80</th>\n",
       "      <td>time</td>\n",
       "      <td>7</td>\n",
       "      <td>0.750000</td>\n",
       "      <td>0.875</td>\n",
       "    </tr>\n",
       "    <tr>\n",
       "      <th>81</th>\n",
       "      <td>time</td>\n",
       "      <td>8</td>\n",
       "      <td>0.875000</td>\n",
       "      <td>0.750</td>\n",
       "    </tr>\n",
       "    <tr>\n",
       "      <th>82</th>\n",
       "      <td>time</td>\n",
       "      <td>9</td>\n",
       "      <td>0.833333</td>\n",
       "      <td>0.875</td>\n",
       "    </tr>\n",
       "    <tr>\n",
       "      <th>83</th>\n",
       "      <td>time</td>\n",
       "      <td>10</td>\n",
       "      <td>0.833333</td>\n",
       "      <td>0.750</td>\n",
       "    </tr>\n",
       "    <tr>\n",
       "      <th>84</th>\n",
       "      <td>time</td>\n",
       "      <td>11</td>\n",
       "      <td>0.875000</td>\n",
       "      <td>0.625</td>\n",
       "    </tr>\n",
       "    <tr>\n",
       "      <th>85</th>\n",
       "      <td>time</td>\n",
       "      <td>12</td>\n",
       "      <td>0.916667</td>\n",
       "      <td>0.875</td>\n",
       "    </tr>\n",
       "    <tr>\n",
       "      <th>86</th>\n",
       "      <td>time</td>\n",
       "      <td>13</td>\n",
       "      <td>0.666667</td>\n",
       "      <td>0.750</td>\n",
       "    </tr>\n",
       "    <tr>\n",
       "      <th>87</th>\n",
       "      <td>time</td>\n",
       "      <td>14</td>\n",
       "      <td>0.916667</td>\n",
       "      <td>0.875</td>\n",
       "    </tr>\n",
       "    <tr>\n",
       "      <th>88</th>\n",
       "      <td>time</td>\n",
       "      <td>15</td>\n",
       "      <td>0.750000</td>\n",
       "      <td>0.750</td>\n",
       "    </tr>\n",
       "    <tr>\n",
       "      <th>89</th>\n",
       "      <td>time</td>\n",
       "      <td>16</td>\n",
       "      <td>0.875000</td>\n",
       "      <td>0.750</td>\n",
       "    </tr>\n",
       "    <tr>\n",
       "      <th>90</th>\n",
       "      <td>time</td>\n",
       "      <td>17</td>\n",
       "      <td>0.875000</td>\n",
       "      <td>1.000</td>\n",
       "    </tr>\n",
       "    <tr>\n",
       "      <th>91</th>\n",
       "      <td>time</td>\n",
       "      <td>18</td>\n",
       "      <td>0.750000</td>\n",
       "      <td>1.000</td>\n",
       "    </tr>\n",
       "    <tr>\n",
       "      <th>92</th>\n",
       "      <td>time</td>\n",
       "      <td>19</td>\n",
       "      <td>0.833333</td>\n",
       "      <td>1.000</td>\n",
       "    </tr>\n",
       "    <tr>\n",
       "      <th>93</th>\n",
       "      <td>time</td>\n",
       "      <td>20</td>\n",
       "      <td>0.875000</td>\n",
       "      <td>1.000</td>\n",
       "    </tr>\n",
       "    <tr>\n",
       "      <th>94</th>\n",
       "      <td>time</td>\n",
       "      <td>21</td>\n",
       "      <td>0.833333</td>\n",
       "      <td>0.750</td>\n",
       "    </tr>\n",
       "    <tr>\n",
       "      <th>95</th>\n",
       "      <td>time</td>\n",
       "      <td>22</td>\n",
       "      <td>0.916667</td>\n",
       "      <td>0.875</td>\n",
       "    </tr>\n",
       "    <tr>\n",
       "      <th>96</th>\n",
       "      <td>time</td>\n",
       "      <td>23</td>\n",
       "      <td>0.875000</td>\n",
       "      <td>1.000</td>\n",
       "    </tr>\n",
       "    <tr>\n",
       "      <th>97</th>\n",
       "      <td>time</td>\n",
       "      <td>24</td>\n",
       "      <td>0.875000</td>\n",
       "      <td>0.625</td>\n",
       "    </tr>\n",
       "    <tr>\n",
       "      <th>98</th>\n",
       "      <td>time</td>\n",
       "      <td>25</td>\n",
       "      <td>0.708333</td>\n",
       "      <td>0.875</td>\n",
       "    </tr>\n",
       "    <tr>\n",
       "      <th>99</th>\n",
       "      <td>time</td>\n",
       "      <td>26</td>\n",
       "      <td>0.833333</td>\n",
       "      <td>0.750</td>\n",
       "    </tr>\n",
       "    <tr>\n",
       "      <th>100</th>\n",
       "      <td>time</td>\n",
       "      <td>27</td>\n",
       "      <td>0.875000</td>\n",
       "      <td>0.875</td>\n",
       "    </tr>\n",
       "    <tr>\n",
       "      <th>101</th>\n",
       "      <td>time</td>\n",
       "      <td>28</td>\n",
       "      <td>0.875000</td>\n",
       "      <td>0.875</td>\n",
       "    </tr>\n",
       "    <tr>\n",
       "      <th>102</th>\n",
       "      <td>time</td>\n",
       "      <td>29</td>\n",
       "      <td>0.875000</td>\n",
       "      <td>1.000</td>\n",
       "    </tr>\n",
       "  </tbody>\n",
       "</table>\n",
       "<p>103 rows × 4 columns</p>\n",
       "</div>"
      ],
      "text/plain": [
       "display_type condition  IP  frequent  infrequent\n",
       "0             accuracy   0  0.083333       0.000\n",
       "1             accuracy   1  0.000000       0.000\n",
       "2             accuracy   2  0.000000       0.000\n",
       "3             accuracy   3  0.083333       0.000\n",
       "4             accuracy   4  0.000000       0.000\n",
       "5             accuracy   5  0.041667       0.000\n",
       "6             accuracy   6  0.000000       0.000\n",
       "7             accuracy   7  0.041667       0.000\n",
       "8             accuracy   8  0.041667       0.000\n",
       "9             accuracy   9  0.041667       0.000\n",
       "10            accuracy  10  0.041667       0.000\n",
       "11            accuracy  11  0.041667       0.000\n",
       "12            accuracy  12  0.000000       0.000\n",
       "13            accuracy  13  0.041667       0.000\n",
       "14            accuracy  14  0.083333       0.000\n",
       "15            accuracy  15  0.000000       0.000\n",
       "16            accuracy  16  0.083333       0.000\n",
       "17            accuracy  17  0.083333       0.000\n",
       "18            accuracy  18  0.000000       0.000\n",
       "19            accuracy  19  0.000000       0.000\n",
       "20            accuracy  20  0.041667       0.000\n",
       "21            accuracy  21  0.041667       0.000\n",
       "22            accuracy  22  0.000000       0.000\n",
       "23            accuracy  23  0.000000       0.000\n",
       "24            accuracy  24  0.000000       0.000\n",
       "25            accuracy  25  0.041667       0.000\n",
       "26            accuracy  26  0.041667       0.000\n",
       "27            accuracy  27  0.000000       0.000\n",
       "28            accuracy  28  0.041667       0.000\n",
       "29            accuracy  29  0.000000       0.000\n",
       "..                 ...  ..       ...         ...\n",
       "73                time   0  0.833333       0.875\n",
       "74                time   1  0.916667       0.875\n",
       "75                time   2  0.916667       1.000\n",
       "76                time   3  0.791667       0.625\n",
       "77                time   4  0.875000       0.875\n",
       "78                time   5  0.791667       0.750\n",
       "79                time   6  0.916667       0.750\n",
       "80                time   7  0.750000       0.875\n",
       "81                time   8  0.875000       0.750\n",
       "82                time   9  0.833333       0.875\n",
       "83                time  10  0.833333       0.750\n",
       "84                time  11  0.875000       0.625\n",
       "85                time  12  0.916667       0.875\n",
       "86                time  13  0.666667       0.750\n",
       "87                time  14  0.916667       0.875\n",
       "88                time  15  0.750000       0.750\n",
       "89                time  16  0.875000       0.750\n",
       "90                time  17  0.875000       1.000\n",
       "91                time  18  0.750000       1.000\n",
       "92                time  19  0.833333       1.000\n",
       "93                time  20  0.875000       1.000\n",
       "94                time  21  0.833333       0.750\n",
       "95                time  22  0.916667       0.875\n",
       "96                time  23  0.875000       1.000\n",
       "97                time  24  0.875000       0.625\n",
       "98                time  25  0.708333       0.875\n",
       "99                time  26  0.833333       0.750\n",
       "100               time  27  0.875000       0.875\n",
       "101               time  28  0.875000       0.875\n",
       "102               time  29  0.875000       1.000\n",
       "\n",
       "[103 rows x 4 columns]"
      ]
     },
     "execution_count": 100,
     "metadata": {},
     "output_type": "execute_result"
    }
   ],
   "source": [
    "def isModelable(x):\n",
    "    freq = x['frequent']\n",
    "    infreq = x['infrequent']\n",
    "    x['isModelable'] = np.abs(freq - infreq) < 0.1 or np.abs(freq - infreq) < 0.1\n",
    "\n",
    "df_props \\\n",
    "    .apply()"
   ]
  },
  {
   "cell_type": "code",
   "execution_count": 202,
   "metadata": {},
   "outputs": [
    {
     "data": {
      "text/plain": [
       "False"
      ]
     },
     "execution_count": 202,
     "metadata": {},
     "output_type": "execute_result"
    }
   ],
   "source": [
    "# fn - '-x\\sin a+y\\cos a\\ =\\left(\\ x\\cos a+y\\sin a-h\\right)^2+k'\n",
    "def good_xy(x, y):\n",
    "    sm = x + y\n",
    "    if (sm) < 1:\n",
    "        return np.abs(x - y) <= 0.1 or (x == 0 or y == 0)\n",
    "    elif (sm > 1):\n",
    "        return np.abs(x - y) <= 0.1\n",
    "    else:\n",
    "        return False\n",
    "    \n",
    "# trials = [(0.12, 0.62)]\n",
    "# good_xy(0.12, 0.62)"
   ]
  },
  {
   "cell_type": "code",
   "execution_count": 206,
   "metadata": {
    "collapsed": true
   },
   "outputs": [],
   "source": [
    "trials = [\n",
    "  {'IP': '68.194.164.153',\n",
    "  'condition': 'accuracy',\n",
    "  'frequent': 0.0,\n",
    "  'infrequent': 0.0},\n",
    " {'IP': '115.99.18.32',\n",
    "  'condition': 'combined',\n",
    "  'frequent': 0.21,\n",
    "  'infrequent': 0.0},\n",
    " {'IP': '182.65.31.144',\n",
    "  'condition': 'combined',\n",
    "  'frequent': 0.75,\n",
    "  'infrequent': 0.0},\n",
    "    {'IP': '75.134.222.94',\n",
    "     'condition': 'accuracy',\n",
    "     'frequent': 0.08,\n",
    "     'infrequent': 0.5},\n",
    " {'IP': '107.161.163.8',\n",
    "  'condition': 'combined',\n",
    "  'frequent': 0.08,\n",
    "  'infrequent': 0.0},\n",
    "    {'IP': '108.196.136.202',\n",
    "     'condition': 'accuracy',\n",
    "     'frequent': 0.12,\n",
    "     'infrequent': 0.62},\n",
    " {'IP': '216.21.204.80',\n",
    "  'condition': 'neither',\n",
    "  'frequent': 1.0,\n",
    "  'infrequent': 0.0},\n",
    " {'IP': '50.153.191.59',\n",
    "  'condition': 'accuracy',\n",
    "  'frequent': 0.0,\n",
    "  'infrequent': 0.0},\n",
    "    {'IP': '70.198.5.150',\n",
    "     'condition': 'neither',\n",
    "     'frequent': 0.96,\n",
    "     'infrequent': 0.06},\n",
    " {'IP': '50.157.182.233',\n",
    "  'condition': 'accuracy',\n",
    "  'frequent': 0.0,\n",
    "  'infrequent': 0.0},\n",
    " {'IP': '108.210.65.252',\n",
    "  'condition': 'accuracy',\n",
    "  'frequent': 0.0,\n",
    "  'infrequent': 0.0},\n",
    " {'IP': '71.112.135.232',\n",
    "  'condition': 'accuracy',\n",
    "  'frequent': 0.0,\n",
    "  'infrequent': 0.0},\n",
    "    {'IP': '24.20.229.200',\n",
    "     'condition': 'combined',\n",
    "     'frequent': 0.96,\n",
    "     'infrequent': 0.12},\n",
    " {'IP': '65.28.161.177',\n",
    "  'condition': 'time',\n",
    "  'frequent': 0.98,\n",
    "  'infrequent': 1.0},\n",
    " {'IP': '163.47.15.206',\n",
    "  'condition': 'combined',\n",
    "  'frequent': 0.21,\n",
    "  'infrequent': 0.0},\n",
    " {'IP': '66.56.8.213',\n",
    "  'condition': 'combined',\n",
    "  'frequent': 0.62,\n",
    "  'infrequent': 0.0},\n",
    " {'IP': '96.60.207.27',\n",
    "  'condition': 'time',\n",
    "  'frequent': 0.96,\n",
    "  'infrequent': 0.88},\n",
    " {'IP': '67.44.209.240',\n",
    "  'condition': 'neither',\n",
    "  'frequent': 0.02,\n",
    "  'infrequent': 0.0},\n",
    " {'IP': '68.184.74.170',\n",
    "  'condition': 'time',\n",
    "  'frequent': 0.67,\n",
    "  'infrequent': 0.62}]\n",
    "\n",
    "badIds = [t['IP'] for t in trials if not good_xy(t['frequent'], t['infrequent'])]"
   ]
  },
  {
   "cell_type": "code",
   "execution_count": 207,
   "metadata": {},
   "outputs": [
    {
     "data": {
      "text/plain": [
       "['75.134.222.94',\n",
       " '108.196.136.202',\n",
       " '216.21.204.80',\n",
       " '70.198.5.150',\n",
       " '24.20.229.200']"
      ]
     },
     "execution_count": 207,
     "metadata": {},
     "output_type": "execute_result"
    }
   ],
   "source": [
    "badIds"
   ]
  },
  {
   "cell_type": "code",
   "execution_count": null,
   "metadata": {
    "collapsed": true
   },
   "outputs": [],
   "source": [
    "75.134.222.94\n",
    "108.196.136.202\n",
    "70.198.5.150\n",
    "24.20.229.200"
   ]
  },
  {
   "cell_type": "code",
   "execution_count": 44,
   "metadata": {
    "collapsed": true
   },
   "outputs": [],
   "source": [
    "df_props_mod = df_props[['IP', 'condition', 'frequent', 'infrequent']] \\\n",
    "    .rename(columns={'frequent':'gen_freq', 'infrequent':'gen_infreq'})\n",
    "    \n",
    "df_joined = df_props_mod.set_index(['IP', 'condition']).join(df_agg_fig3.set_index(['IP', 'condition'])) \\\n",
    "    .reset_index()"
   ]
  },
  {
   "cell_type": "code",
   "execution_count": 45,
   "metadata": {
    "collapsed": true
   },
   "outputs": [],
   "source": [
    "# pd.melt(df, id_vars=['A'], value_vars=['B'])\n",
    "df_joined_melted = pd.melt(df_joined, id_vars=['IP', 'condition'], value_vars=['gen_freq', 'gen_infreq', 'frequent', 'infrequent'])\n",
    "# df_joined_melted['data_type'] = df_joined_melted[['data_type']]"
   ]
  },
  {
   "cell_type": "code",
   "execution_count": 46,
   "metadata": {
    "collapsed": true
   },
   "outputs": [],
   "source": [
    "def isEmpirical(x):\n",
    "    return x == 'frequent' or x == 'infrequent'\n",
    "def isFrequent(x):\n",
    "    return x == 'gen_freq' or x == 'frequent'\n",
    "\n",
    "df_joined_melted\n",
    "df_joined_melted['data_type'] = ['empirical' if isEmpirical(x) else 'generated' for x in df_joined_melted['display_type']]\n",
    "df_joined_melted['display_type2'] = ['frequent' if isFrequent(x) else 'infrequent' for x in df_joined_melted['display_type']]"
   ]
  },
  {
   "cell_type": "code",
   "execution_count": 47,
   "metadata": {},
   "outputs": [
    {
     "data": {
      "text/html": [
       "<div>\n",
       "<style scoped>\n",
       "    .dataframe tbody tr th:only-of-type {\n",
       "        vertical-align: middle;\n",
       "    }\n",
       "\n",
       "    .dataframe tbody tr th {\n",
       "        vertical-align: top;\n",
       "    }\n",
       "\n",
       "    .dataframe thead th {\n",
       "        text-align: right;\n",
       "    }\n",
       "</style>\n",
       "<table border=\"1\" class=\"dataframe\">\n",
       "  <thead>\n",
       "    <tr style=\"text-align: right;\">\n",
       "      <th>display_type2</th>\n",
       "      <th>IP</th>\n",
       "      <th>condition</th>\n",
       "      <th>data_type</th>\n",
       "      <th>frequent</th>\n",
       "      <th>infrequent</th>\n",
       "    </tr>\n",
       "  </thead>\n",
       "  <tbody>\n",
       "    <tr>\n",
       "      <th>0</th>\n",
       "      <td>104.11.62.66</td>\n",
       "      <td>accuracy</td>\n",
       "      <td>empirical</td>\n",
       "      <td>0.000000</td>\n",
       "      <td>0.0</td>\n",
       "    </tr>\n",
       "    <tr>\n",
       "      <th>1</th>\n",
       "      <td>104.11.62.66</td>\n",
       "      <td>accuracy</td>\n",
       "      <td>generated</td>\n",
       "      <td>0.000000</td>\n",
       "      <td>0.0</td>\n",
       "    </tr>\n",
       "    <tr>\n",
       "      <th>2</th>\n",
       "      <td>104.175.214.163</td>\n",
       "      <td>accuracy</td>\n",
       "      <td>empirical</td>\n",
       "      <td>0.000000</td>\n",
       "      <td>0.0</td>\n",
       "    </tr>\n",
       "    <tr>\n",
       "      <th>3</th>\n",
       "      <td>104.175.214.163</td>\n",
       "      <td>accuracy</td>\n",
       "      <td>generated</td>\n",
       "      <td>0.000000</td>\n",
       "      <td>0.0</td>\n",
       "    </tr>\n",
       "    <tr>\n",
       "      <th>4</th>\n",
       "      <td>104.57.161.213</td>\n",
       "      <td>time</td>\n",
       "      <td>empirical</td>\n",
       "      <td>0.979167</td>\n",
       "      <td>1.0</td>\n",
       "    </tr>\n",
       "  </tbody>\n",
       "</table>\n",
       "</div>"
      ],
      "text/plain": [
       "display_type2               IP condition  data_type  frequent  infrequent\n",
       "0                 104.11.62.66  accuracy  empirical  0.000000         0.0\n",
       "1                 104.11.62.66  accuracy  generated  0.000000         0.0\n",
       "2              104.175.214.163  accuracy  empirical  0.000000         0.0\n",
       "3              104.175.214.163  accuracy  generated  0.000000         0.0\n",
       "4               104.57.161.213      time  empirical  0.979167         1.0"
      ]
     },
     "execution_count": 47,
     "metadata": {},
     "output_type": "execute_result"
    }
   ],
   "source": [
    "df_joined_melted_pivoted = df_joined_melted.drop(columns='display_type') \\\n",
    "    .pivot_table(values='value', index=['IP', 'condition', 'data_type'], columns=['display_type2']) \\\n",
    "    .reset_index()\n",
    "df_joined_melted_pivoted.head()"
   ]
  },
  {
   "cell_type": "code",
   "execution_count": 48,
   "metadata": {},
   "outputs": [
    {
     "data": {
      "image/png": "[encoded data removed]",
      "text/plain": [
       "<matplotlib.figure.Figure at 0x1a0a62b588>"
      ]
     },
     "metadata": {},
     "output_type": "display_data"
    }
   ],
   "source": [
    "# df_props\n",
    "p4 = sns.FacetGrid(col='condition', hue='data_type', col_order=['accuracy', 'time', 'combined'], data=df_joined_melted_pivoted)\n",
    "p4 = p4.map(plt.scatter, \"frequent\", \"infrequent\", alpha=0.5)"
   ]
  },
  {
   "cell_type": "code",
   "execution_count": 49,
   "metadata": {
    "collapsed": true
   },
   "outputs": [],
   "source": [
    "df_frequent_corr = df_joined_melted_pivoted \\\n",
    "    .drop(columns='infrequent') \\\n",
    "    .pivot_table(values='frequent', index=['IP', 'condition',], columns=['data_type']) \\\n",
    "    .reset_index()"
   ]
  },
  {
   "cell_type": "code",
   "execution_count": 50,
   "metadata": {},
   "outputs": [
    {
     "data": {
      "text/plain": [
       "<seaborn.axisgrid.FacetGrid at 0x1a0a659320>"
      ]
     },
     "execution_count": 50,
     "metadata": {},
     "output_type": "execute_result"
    },
    {
     "data": {
      "image/png": "[encoded data removed]",
      "text/plain": [
       "<matplotlib.figure.Figure at 0x1a140b1eb8>"
      ]
     },
     "metadata": {},
     "output_type": "display_data"
    }
   ],
   "source": [
    "sns.lmplot(x='generated', y='empirical', data=df_frequent_corr)"
   ]
  },
  {
   "cell_type": "code",
   "execution_count": 51,
   "metadata": {},
   "outputs": [
    {
     "data": {
      "text/plain": [
       "array([[ 1.        ,  0.97573957],\n",
       "       [ 0.97573957,  1.        ]])"
      ]
     },
     "execution_count": 51,
     "metadata": {},
     "output_type": "execute_result"
    }
   ],
   "source": [
    "np.corrcoef(df_frequent_corr['generated'], df_frequent_corr['empirical'])**2"
   ]
  },
  {
   "cell_type": "markdown",
   "metadata": {
    "collapsed": true
   },
   "source": [
    "## Figure 4 - optimal strategies"
   ]
  },
  {
   "cell_type": "code",
   "execution_count": 14,
   "metadata": {
    "collapsed": true
   },
   "outputs": [],
   "source": [
    "# forms\n",
    "f_zop = 0.75\n",
    "f_zopudon = 0.0\n",
    "f_zopekil = 0.25\n",
    "\n",
    "# meanings\n",
    "m_zopudon = 0.75\n",
    "m_zopekil = 0.25\n",
    "\n",
    "# p_fm\n",
    "p_zop_zopudon = 0.75\n",
    "p_zop_zopekil = 0\n",
    "p_zopekil_zopekil = 0.25\n",
    "p_zopudon_zopudon = 0\n",
    "p_zopekil_zopudon = 0\n",
    "p_zopudon_zopekil = 0"
   ]
  },
  {
   "cell_type": "code",
   "execution_count": 15,
   "metadata": {
    "collapsed": true
   },
   "outputs": [],
   "source": [
    "def MI(p_x, p_y, p_xy):\n",
    "    if p_x == 0 or p_y == 0 or p_xy == 0:\n",
    "        return 0\n",
    "    return p_xy * np.log2(p_xy / (p_x * p_y))"
   ]
  },
  {
   "cell_type": "code",
   "execution_count": 16,
   "metadata": {
    "collapsed": true
   },
   "outputs": [],
   "source": [
    "distr = [(f_zop, m_zopudon, p_zop_zopudon),\n",
    "         (f_zop, m_zopekil, p_zop_zopekil), \n",
    "         (f_zopekil, m_zopekil, p_zopekil_zopekil),\n",
    "         (f_zopudon, m_zopudon, p_zopudon_zopudon),\n",
    "         (f_zopekil, m_zopudon, p_zopekil_zopudon),\n",
    "         (f_zopudon, m_zopekil, p_zopudon_zopekil)]"
   ]
  },
  {
   "cell_type": "code",
   "execution_count": 17,
   "metadata": {},
   "outputs": [
    {
     "data": {
      "text/plain": [
       "0.81127812445913283"
      ]
     },
     "execution_count": 17,
     "metadata": {},
     "output_type": "execute_result"
    }
   ],
   "source": [
    "res = [MI(p_x, p_y, p_xy) for (p_x, p_y, p_xy) in distr]\n",
    "np.sum(res)"
   ]
  },
  {
   "cell_type": "code",
   "execution_count": null,
   "metadata": {
    "collapsed": true
   },
   "outputs": [],
   "source": []
  }
 ],
 "metadata": {
  "kernelspec": {
   "display_name": "Python 3",
   "language": "python",
   "name": "python3"
  },
  "language_info": {
   "codemirror_mode": {
    "name": "ipython",
    "version": 3
   },
   "file_extension": ".py",
   "mimetype": "text/x-python",
   "name": "python",
   "nbconvert_exporter": "python",
   "pygments_lexer": "ipython3",
   "version": "3.6.4"
  }
 },
 "nbformat": 4,
 "nbformat_minor": 2
}

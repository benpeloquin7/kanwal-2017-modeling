{
 "cells": [
  {
   "cell_type": "markdown",
   "metadata": {},
   "source": [
    "# Modeling Kanwal (2007)\n",
    "\n",
    "## Contents of readme\n",
    "\n",
    "Each file in this dataset corresponds to one of the four experimental conditions described in the paper: Combined condition (data_dyad_all_R_dem.csv), Accuracy condition (data_partner_only_all_R_dem.csv), Time condition (data_time_only_R_dem), and Neither condition (data_min_R_dem.csv).\n",
    "\n",
    "Descriptions of the column headings are as follows:\n",
    "\n",
    "* **pairnum** - the ID number of the pair\n",
    "* **IP** - IP address of individual participant\n",
    "* **timestamp** - time of data collection\n",
    "* **counterbalance** - ID number of counterbalance condition (1, 2, 3, or 4)\n",
    "* **code** - completion code entered by participant\n",
    "* **trial** - director trial number (up to 32 in Combined & Accuracy conditions, up to 64 in Time and Neither conditions)\n",
    "* **display** - 0/1 = frequent object displayed to director, 2/3 = infrequent object displayed\n",
    "* **label** - label chosen by director (zop = short label)\n",
    "* **button.side** - placement of button corresponding to the chosen label (R or L)\n",
    "* **workerID** - turk worker ID of individual participant\n",
    "* **age** - age of participant\n",
    "* **gender** - gender of participant\n",
    "* **L1** - participant's native language(s)\n",
    "* **L2** - participant's other spoken language(s)\n",
    "* **explanation** - explanation given by participant of their strategy during the director trials, from the exit survey"
   ]
  },
  {
   "cell_type": "code",
   "execution_count": 1,
   "metadata": {
    "collapsed": true
   },
   "outputs": [],
   "source": [
    "from collections import Counter\n",
    "import matplotlib\n",
    "import matplotlib.pyplot as plt\n",
    "import numpy as np\n",
    "import pandas as pd\n",
    "import pdb\n",
    "import seaborn as sns\n",
    "\n",
    "%matplotlib inline "
   ]
  },
  {
   "cell_type": "markdown",
   "metadata": {},
   "source": [
    "### Read data"
   ]
  },
  {
   "cell_type": "code",
   "execution_count": 2,
   "metadata": {
    "collapsed": true
   },
   "outputs": [],
   "source": [
    "def process_line(l):\n",
    "    return list(map(lambda x: x.strip(), l.split(', ')))\n",
    "\n",
    "def file2df(f_path, condition):\n",
    "    data = []\n",
    "    with open(f_path, 'r') as f:\n",
    "        header = process_line(f.readline())\n",
    "        for l in f.readlines():\n",
    "            if l == '\\n':\n",
    "                continue\n",
    "            curr_line = process_line(l)\n",
    "            data.append({hdr: d for hdr, d in zip(header, curr_line)})\n",
    "\n",
    "    df = pd.DataFrame(data)\n",
    "    df['condition'] = condition\n",
    "    return df"
   ]
  },
  {
   "cell_type": "code",
   "execution_count": 3,
   "metadata": {
    "collapsed": true
   },
   "outputs": [],
   "source": [
    "f_combined_path = \"kanwal-jasmeen-2017-data/data_dyad_all_R_dem.csv\"\n",
    "f_accuracy_path = \"kanwal-jasmeen-2017-data/data_partner_only_all_R_dem.csv\"\n",
    "f_time_path =     \"kanwal-jasmeen-2017-data/data_time_only_R_dem.csv\"\n",
    "f_neither_path =  \"kanwal-jasmeen-2017-data/data_min_R_dem.csv\"\n",
    "\n",
    "df_combined = file2df(f_combined_path, 'combined')\n",
    "df_accuracy = file2df(f_accuracy_path, 'accuracy')\n",
    "df_time =     file2df(f_time_path, 'time')\n",
    "df_neither =  file2df(f_neither_path, 'neither')\n",
    "\n",
    "df_agg = df_combined.append(df_accuracy.append(df_time.append(df_neither)))\n",
    "df_agg['trial'] = df_agg['trial'].apply(lambda x: int(x))\n",
    "df_agg['display'] = df_agg['display'].apply(lambda x: int(x))"
   ]
  },
  {
   "cell_type": "markdown",
   "metadata": {},
   "source": [
    "*minor preprocessing*\n",
    "\n",
    "* code for short vs long name"
   ]
  },
  {
   "cell_type": "code",
   "execution_count": 4,
   "metadata": {
    "collapsed": true
   },
   "outputs": [],
   "source": [
    "def get_result(x, typ='infrequent'):\n",
    "    if typ == 'frequent':\n",
    "        return x['display'] <= 1 and x['label_type'] == 0\n",
    "    else:\n",
    "        return x['display'] > 1 and x['label_type'] == 0\n",
    "\n",
    "df_agg['label_type'] = df_agg['label'].apply(lambda x: 'short' if x == 'zop' else 'long')\n",
    "df_agg['display_type'] = df_agg['display'].apply(lambda x: 'frequent' if x < 2 else 'infrequent')\n",
    "# df_agg['short_infrequent'] = df_agg.apply(lambda x: get_result(x, 'infrequent'), axis=1) \n",
    "# df_agg['short_frequent'] = df_agg.apply(lambda x: get_result(x, 'frequent'), axis=1) "
   ]
  },
  {
   "cell_type": "code",
   "execution_count": 5,
   "metadata": {},
   "outputs": [
    {
     "data": {
      "text/html": [
       "<div>\n",
       "<style scoped>\n",
       "    .dataframe tbody tr th:only-of-type {\n",
       "        vertical-align: middle;\n",
       "    }\n",
       "\n",
       "    .dataframe tbody tr th {\n",
       "        vertical-align: top;\n",
       "    }\n",
       "\n",
       "    .dataframe thead th {\n",
       "        text-align: right;\n",
       "    }\n",
       "</style>\n",
       "<table border=\"1\" class=\"dataframe\">\n",
       "  <thead>\n",
       "    <tr style=\"text-align: right;\">\n",
       "      <th></th>\n",
       "      <th>IP</th>\n",
       "      <th>L1</th>\n",
       "      <th>L2</th>\n",
       "      <th>age</th>\n",
       "      <th>button.side</th>\n",
       "      <th>code</th>\n",
       "      <th>condition</th>\n",
       "      <th>counterbalance</th>\n",
       "      <th>display</th>\n",
       "      <th>explanation</th>\n",
       "      <th>gender</th>\n",
       "      <th>label</th>\n",
       "      <th>pairnum</th>\n",
       "      <th>timestamp</th>\n",
       "      <th>trial</th>\n",
       "      <th>workerID</th>\n",
       "      <th>label_type</th>\n",
       "      <th>display_type</th>\n",
       "    </tr>\n",
       "  </thead>\n",
       "  <tbody>\n",
       "    <tr>\n",
       "      <th>0</th>\n",
       "      <td>67.85.42.18</td>\n",
       "      <td>\"English\"</td>\n",
       "      <td>\"{}\"</td>\n",
       "      <td>29</td>\n",
       "      <td>R</td>\n",
       "      <td>JK03850S</td>\n",
       "      <td>combined</td>\n",
       "      <td>1</td>\n",
       "      <td>0</td>\n",
       "      <td>\"We seemed to agree on just using zop for the ...</td>\n",
       "      <td>Male</td>\n",
       "      <td>zop</td>\n",
       "      <td>1</td>\n",
       "      <td>14:16 18/11/2015</td>\n",
       "      <td>1</td>\n",
       "      <td>ARVXIBUCA8WDZ</td>\n",
       "      <td>short</td>\n",
       "      <td>frequent</td>\n",
       "    </tr>\n",
       "    <tr>\n",
       "      <th>1</th>\n",
       "      <td>67.85.42.18</td>\n",
       "      <td>\"English\"</td>\n",
       "      <td>\"{}\"</td>\n",
       "      <td>29</td>\n",
       "      <td>R</td>\n",
       "      <td>JK03850S</td>\n",
       "      <td>combined</td>\n",
       "      <td>1</td>\n",
       "      <td>3</td>\n",
       "      <td>\"We seemed to agree on just using zop for the ...</td>\n",
       "      <td>Male</td>\n",
       "      <td>zopudon</td>\n",
       "      <td>1</td>\n",
       "      <td>14:16 18/11/2015</td>\n",
       "      <td>2</td>\n",
       "      <td>ARVXIBUCA8WDZ</td>\n",
       "      <td>long</td>\n",
       "      <td>infrequent</td>\n",
       "    </tr>\n",
       "    <tr>\n",
       "      <th>2</th>\n",
       "      <td>67.85.42.18</td>\n",
       "      <td>\"English\"</td>\n",
       "      <td>\"{}\"</td>\n",
       "      <td>29</td>\n",
       "      <td>R</td>\n",
       "      <td>JK03850S</td>\n",
       "      <td>combined</td>\n",
       "      <td>1</td>\n",
       "      <td>0</td>\n",
       "      <td>\"We seemed to agree on just using zop for the ...</td>\n",
       "      <td>Male</td>\n",
       "      <td>zop</td>\n",
       "      <td>1</td>\n",
       "      <td>14:16 18/11/2015</td>\n",
       "      <td>3</td>\n",
       "      <td>ARVXIBUCA8WDZ</td>\n",
       "      <td>short</td>\n",
       "      <td>frequent</td>\n",
       "    </tr>\n",
       "    <tr>\n",
       "      <th>3</th>\n",
       "      <td>67.85.42.18</td>\n",
       "      <td>\"English\"</td>\n",
       "      <td>\"{}\"</td>\n",
       "      <td>29</td>\n",
       "      <td>L</td>\n",
       "      <td>JK03850S</td>\n",
       "      <td>combined</td>\n",
       "      <td>1</td>\n",
       "      <td>0</td>\n",
       "      <td>\"We seemed to agree on just using zop for the ...</td>\n",
       "      <td>Male</td>\n",
       "      <td>zopekil</td>\n",
       "      <td>1</td>\n",
       "      <td>14:16 18/11/2015</td>\n",
       "      <td>4</td>\n",
       "      <td>ARVXIBUCA8WDZ</td>\n",
       "      <td>long</td>\n",
       "      <td>frequent</td>\n",
       "    </tr>\n",
       "    <tr>\n",
       "      <th>4</th>\n",
       "      <td>67.85.42.18</td>\n",
       "      <td>\"English\"</td>\n",
       "      <td>\"{}\"</td>\n",
       "      <td>29</td>\n",
       "      <td>L</td>\n",
       "      <td>JK03850S</td>\n",
       "      <td>combined</td>\n",
       "      <td>1</td>\n",
       "      <td>2</td>\n",
       "      <td>\"We seemed to agree on just using zop for the ...</td>\n",
       "      <td>Male</td>\n",
       "      <td>zopudon</td>\n",
       "      <td>1</td>\n",
       "      <td>14:16 18/11/2015</td>\n",
       "      <td>5</td>\n",
       "      <td>ARVXIBUCA8WDZ</td>\n",
       "      <td>long</td>\n",
       "      <td>infrequent</td>\n",
       "    </tr>\n",
       "  </tbody>\n",
       "</table>\n",
       "</div>"
      ],
      "text/plain": [
       "            IP         L1    L2 age button.side      code condition  \\\n",
       "0  67.85.42.18  \"English\"  \"{}\"  29           R  JK03850S  combined   \n",
       "1  67.85.42.18  \"English\"  \"{}\"  29           R  JK03850S  combined   \n",
       "2  67.85.42.18  \"English\"  \"{}\"  29           R  JK03850S  combined   \n",
       "3  67.85.42.18  \"English\"  \"{}\"  29           L  JK03850S  combined   \n",
       "4  67.85.42.18  \"English\"  \"{}\"  29           L  JK03850S  combined   \n",
       "\n",
       "  counterbalance  display                                        explanation  \\\n",
       "0              1        0  \"We seemed to agree on just using zop for the ...   \n",
       "1              1        3  \"We seemed to agree on just using zop for the ...   \n",
       "2              1        0  \"We seemed to agree on just using zop for the ...   \n",
       "3              1        0  \"We seemed to agree on just using zop for the ...   \n",
       "4              1        2  \"We seemed to agree on just using zop for the ...   \n",
       "\n",
       "  gender    label pairnum         timestamp  trial       workerID label_type  \\\n",
       "0   Male      zop       1  14:16 18/11/2015      1  ARVXIBUCA8WDZ      short   \n",
       "1   Male  zopudon       1  14:16 18/11/2015      2  ARVXIBUCA8WDZ       long   \n",
       "2   Male      zop       1  14:16 18/11/2015      3  ARVXIBUCA8WDZ      short   \n",
       "3   Male  zopekil       1  14:16 18/11/2015      4  ARVXIBUCA8WDZ       long   \n",
       "4   Male  zopudon       1  14:16 18/11/2015      5  ARVXIBUCA8WDZ       long   \n",
       "\n",
       "  display_type  \n",
       "0     frequent  \n",
       "1   infrequent  \n",
       "2     frequent  \n",
       "3     frequent  \n",
       "4   infrequent  "
      ]
     },
     "execution_count": 5,
     "metadata": {},
     "output_type": "execute_result"
    }
   ],
   "source": [
    "df_agg.head()"
   ]
  },
  {
   "cell_type": "markdown",
   "metadata": {},
   "source": [
    "### View data"
   ]
  },
  {
   "cell_type": "code",
   "execution_count": 6,
   "metadata": {
    "collapsed": true
   },
   "outputs": [],
   "source": [
    "def append_new_rows(x, missing_display_types, missing_label_types):\n",
    "    n = len(missing_display_types)\n",
    "    new_df = pd.DataFrame({\n",
    "        'IP':           np.repeat(set(x['IP']).pop(), n),\n",
    "        'condition':    np.repeat(set(x['condition']).pop(), n),\n",
    "        'display_type': missing_display_types,\n",
    "        'label_type':   missing_label_types,\n",
    "        'cnt':          np.repeat(0, n)\n",
    "    })\n",
    "    x = x \\\n",
    "        .append(new_df) \\\n",
    "        .reset_index()\n",
    "    return x\n",
    "\n",
    "def fill_missing_rows(x):\n",
    "    all_combns = set([\n",
    "        ('frequent', 'long'), \n",
    "        ('infrequent', 'short'), \n",
    "        ('frequent', 'short'), \n",
    "        ('infrequent', 'long')])\n",
    "\n",
    "    available_items = set(list(zip(x['display_type'], x['label_type'])))\n",
    "    missing_items = all_combns - available_items\n",
    "    missing_display_types = [d for (d, l) in missing_items]\n",
    "    missing_label_types = [l for (d, l) in missing_items]\n",
    "    x = append_new_rows(x, missing_display_types, missing_label_types)\n",
    "    return x\n",
    "    \n",
    "def label_props(x):\n",
    "    x['prop'] = x['cnt'] / sum(x['cnt'])\n",
    "    return x\n"
   ]
  },
  {
   "cell_type": "code",
   "execution_count": 7,
   "metadata": {
    "collapsed": true
   },
   "outputs": [],
   "source": [
    "df_agg_fig3 = df_agg \\\n",
    "    .groupby(['IP', 'condition', 'display_type', 'label_type']) \\\n",
    "    .count()['L1'] \\\n",
    "    .reset_index() \\\n",
    "    .rename(columns={'L1':'cnt'}) \\\n",
    "    .groupby(['IP', 'condition']) \\\n",
    "    .apply(fill_missing_rows) \\\n",
    "    .set_index(['IP']) \\\n",
    "    .reset_index() \\\n",
    "    .drop(columns=['index']) \\\n",
    "    .groupby(['IP', 'condition', 'display_type']) \\\n",
    "    .apply(label_props) \\\n",
    "    .drop(columns=['cnt']) \\\n",
    "    .query('label_type == \"short\"') \\\n",
    "    .pivot_table(values='prop', index=['IP', 'condition'], columns=['display_type']) \\\n",
    "    .reset_index()"
   ]
  },
  {
   "cell_type": "code",
   "execution_count": 8,
   "metadata": {},
   "outputs": [
    {
     "data": {
      "text/html": [
       "<div>\n",
       "<style scoped>\n",
       "    .dataframe tbody tr th:only-of-type {\n",
       "        vertical-align: middle;\n",
       "    }\n",
       "\n",
       "    .dataframe tbody tr th {\n",
       "        vertical-align: top;\n",
       "    }\n",
       "\n",
       "    .dataframe thead th {\n",
       "        text-align: right;\n",
       "    }\n",
       "</style>\n",
       "<table border=\"1\" class=\"dataframe\">\n",
       "  <thead>\n",
       "    <tr style=\"text-align: right;\">\n",
       "      <th>display_type</th>\n",
       "      <th>IP</th>\n",
       "      <th>condition</th>\n",
       "      <th>frequent</th>\n",
       "      <th>infrequent</th>\n",
       "    </tr>\n",
       "  </thead>\n",
       "  <tbody>\n",
       "    <tr>\n",
       "      <th>0</th>\n",
       "      <td>100.10.40.83</td>\n",
       "      <td>combined</td>\n",
       "      <td>1.000000</td>\n",
       "      <td>0.0</td>\n",
       "    </tr>\n",
       "    <tr>\n",
       "      <th>1</th>\n",
       "      <td>100.2.122.157</td>\n",
       "      <td>combined</td>\n",
       "      <td>0.958333</td>\n",
       "      <td>0.0</td>\n",
       "    </tr>\n",
       "    <tr>\n",
       "      <th>2</th>\n",
       "      <td>104.11.62.66</td>\n",
       "      <td>accuracy</td>\n",
       "      <td>0.000000</td>\n",
       "      <td>0.0</td>\n",
       "    </tr>\n",
       "    <tr>\n",
       "      <th>3</th>\n",
       "      <td>104.174.222.43</td>\n",
       "      <td>combined</td>\n",
       "      <td>0.000000</td>\n",
       "      <td>0.5</td>\n",
       "    </tr>\n",
       "    <tr>\n",
       "      <th>4</th>\n",
       "      <td>104.175.214.163</td>\n",
       "      <td>accuracy</td>\n",
       "      <td>0.000000</td>\n",
       "      <td>0.0</td>\n",
       "    </tr>\n",
       "  </tbody>\n",
       "</table>\n",
       "</div>"
      ],
      "text/plain": [
       "display_type               IP condition  frequent  infrequent\n",
       "0                100.10.40.83  combined  1.000000         0.0\n",
       "1               100.2.122.157  combined  0.958333         0.0\n",
       "2                104.11.62.66  accuracy  0.000000         0.0\n",
       "3              104.174.222.43  combined  0.000000         0.5\n",
       "4             104.175.214.163  accuracy  0.000000         0.0"
      ]
     },
     "execution_count": 8,
     "metadata": {},
     "output_type": "execute_result"
    }
   ],
   "source": [
    "df_agg_fig3.head()"
   ]
  },
  {
   "cell_type": "markdown",
   "metadata": {},
   "source": [
    "### Reproducing fig 3\n",
    "\n",
    "Note that this analysis looks slightly different likely because they only used data from the **second half of testing trials!**"
   ]
  },
  {
   "cell_type": "code",
   "execution_count": 11,
   "metadata": {},
   "outputs": [
    {
     "data": {
      "image/png": "[encoded data removed]",
      "text/plain": [
       "<matplotlib.figure.Figure at 0x109b2f0f0>"
      ]
     },
     "metadata": {},
     "output_type": "display_data"
    }
   ],
   "source": [
    "p1 = sns.FacetGrid(col='condition', hue='condition', data=df_agg_fig3)\n",
    "p1 = p1.map(plt.scatter, \"frequent\", \"infrequent\", alpha=0.5)"
   ]
  },
  {
   "cell_type": "code",
   "execution_count": 12,
   "metadata": {
    "collapsed": true
   },
   "outputs": [],
   "source": [
    "second_half_filter = \\\n",
    "    (df_agg['trial'] >= 16) & ((df_agg['condition'] == 'combined') | (df_agg['condition'] == 'accuracy')) | \\\n",
    "    (df_agg['trial'] >= 32) & ((df_agg['condition'] == 'time') | (df_agg['condition'] == 'neither'))"
   ]
  },
  {
   "cell_type": "markdown",
   "metadata": {},
   "source": [
    "#### Reproducing Fig3 - only using second half data...\n",
    "\n",
    "Plot still looks different"
   ]
  },
  {
   "cell_type": "code",
   "execution_count": 13,
   "metadata": {
    "collapsed": true
   },
   "outputs": [],
   "source": [
    "df_fig3_second_half = df_agg[second_half_filter] \\\n",
    "    .groupby(['IP', 'condition', 'display_type', 'label_type']) \\\n",
    "    .count()['L1'] \\\n",
    "    .reset_index() \\\n",
    "    .rename(columns={'L1':'cnt'}) \\\n",
    "    .groupby(['IP', 'condition']) \\\n",
    "    .apply(fill_missing_rows) \\\n",
    "    .set_index(['IP']) \\\n",
    "    .reset_index() \\\n",
    "    .drop(columns=['index']) \\\n",
    "    .groupby(['IP', 'condition', 'display_type']) \\\n",
    "    .apply(label_props) \\\n",
    "    .drop(columns=['cnt']) \\\n",
    "    .query('label_type == \"short\"') \\\n",
    "    .pivot_table(values='prop', index=['IP', 'condition'], columns=['display_type']) \\\n",
    "    .reset_index()"
   ]
  },
  {
   "cell_type": "code",
   "execution_count": 14,
   "metadata": {},
   "outputs": [
    {
     "data": {
      "image/png": "[encoded data removed]",
      "text/plain": [
       "<matplotlib.figure.Figure at 0x10f0ecda0>"
      ]
     },
     "metadata": {},
     "output_type": "display_data"
    }
   ],
   "source": [
    "p2 = sns.FacetGrid(col='condition', hue='condition', data=df_fig3_second_half)\n",
    "p2 = p2.map(plt.scatter, \"frequent\", \"infrequent\", alpha=0.5)"
   ]
  },
  {
   "cell_type": "markdown",
   "metadata": {
    "collapsed": true
   },
   "source": [
    "## Figure 4"
   ]
  },
  {
   "cell_type": "code",
   "execution_count": 15,
   "metadata": {
    "collapsed": true
   },
   "outputs": [],
   "source": [
    "# forms\n",
    "f_zop = 0.75\n",
    "f_zopudon = 0.0\n",
    "f_zopekil = 0.25\n",
    "\n",
    "# meanings\n",
    "m_zopudon = 0.75\n",
    "m_zopekil = 0.25\n",
    "\n",
    "# p_fm\n",
    "p_zop_zopudon = 0.75\n",
    "p_zop_zopekil = 0\n",
    "p_zopekil_zopekil = 0.25\n",
    "p_zopudon_zopudon = 0\n",
    "p_zopekil_zopudon = 0\n",
    "p_zopudon_zopekil = 0"
   ]
  },
  {
   "cell_type": "code",
   "execution_count": 16,
   "metadata": {
    "collapsed": true
   },
   "outputs": [],
   "source": [
    "def MI(p_x, p_y, p_xy):\n",
    "    if p_x == 0 or p_y == 0 or p_xy == 0:\n",
    "        return 0\n",
    "    return p_xy * np.log2(p_xy / (p_x * p_y))"
   ]
  },
  {
   "cell_type": "code",
   "execution_count": 17,
   "metadata": {
    "collapsed": true
   },
   "outputs": [],
   "source": [
    "distr = [(f_zop, m_zopudon, p_zop_zopudon),\n",
    "         (f_zop, m_zopekil, p_zop_zopekil), \n",
    "         (f_zopekil, m_zopekil, p_zopekil_zopekil),\n",
    "         (f_zopudon, m_zopudon, p_zopudon_zopudon),\n",
    "         (f_zopekil, m_zopudon, p_zopekil_zopudon),\n",
    "         (f_zopudon, m_zopekil, p_zopudon_zopekil)]"
   ]
  },
  {
   "cell_type": "code",
   "execution_count": 18,
   "metadata": {},
   "outputs": [
    {
     "data": {
      "text/plain": [
       "0.81127812445913283"
      ]
     },
     "execution_count": 18,
     "metadata": {},
     "output_type": "execute_result"
    }
   ],
   "source": [
    "res = [MI(p_x, p_y, p_xy) for (p_x, p_y, p_xy) in distr]\n",
    "np.sum(res)"
   ]
  },
  {
   "cell_type": "markdown",
   "metadata": {},
   "source": [
    "# Modeling data"
   ]
  },
  {
   "cell_type": "markdown",
   "metadata": {},
   "source": [
    "### Combined condition\n",
    "\n",
    "Data for fitting hyperparams"
   ]
  },
  {
   "cell_type": "code",
   "execution_count": 19,
   "metadata": {
    "collapsed": true
   },
   "outputs": [],
   "source": [
    "data = df_agg_fig3 \\\n",
    "    .query('condition==\"accuracy\"') \\\n",
    "    .to_dict(orient='records')"
   ]
  },
  {
   "cell_type": "code",
   "execution_count": 20,
   "metadata": {
    "collapsed": true
   },
   "outputs": [],
   "source": [
    "newD = []\n",
    "for d in data:\n",
    "    newD.append({\n",
    "        'IP': d['IP'],\n",
    "        'condition': d['condition'],\n",
    "        'frequent': round(d['frequent'], 2),\n",
    "        'infrequent': round(d['infrequent'], 2)\n",
    "    })"
   ]
  },
  {
   "cell_type": "markdown",
   "metadata": {},
   "source": [
    "## Model output\n",
    "\n",
    "#### Combination"
   ]
  },
  {
   "cell_type": "code",
   "execution_count": 65,
   "metadata": {
    "collapsed": true
   },
   "outputs": [],
   "source": [
    "f_combination = 'combination.json'\n",
    "f_accuracy = 'accuracy.json'\n",
    "f_time = 'time.json'\n",
    "f_other = 'other.json'\n",
    "df_synthetic = pd.read_json(f_accuracy, orient='records') \\\n",
    "    .append([pd.read_json(f_time, orient='records'), \n",
    "             pd.read_json(f_combination, orient='records'),\n",
    "             pd.read_json(f_other, orient='records')])"
   ]
  },
  {
   "cell_type": "code",
   "execution_count": 66,
   "metadata": {
    "collapsed": true
   },
   "outputs": [],
   "source": [
    "df_synthetic = df_synthetic.rename(columns={'trialType':'display_type', 'participantNum':'IP'})\n",
    "df_synthetic['label_type'] = ['short' if u == 'zop' else 'long' for u in df_synthetic['utterance']]"
   ]
  },
  {
   "cell_type": "code",
   "execution_count": 67,
   "metadata": {
    "collapsed": true
   },
   "outputs": [],
   "source": [
    "def normer(x):\n",
    "    x['prop'] = x['cnt'] / np.sum(x['cnt'])\n",
    "    return x\n",
    "\n",
    "def get_label_type(x):\n",
    "    pdb.set_trace()\n",
    "    x['label_type'] = 'short' if x['utterance'] == 'zop' else 'long'\n",
    "    return x\n",
    "    \n",
    "\n",
    "df_props = df_synthetic \\\n",
    "    .groupby(['condition', 'IP', 'display_type', 'label_type']) \\\n",
    "    .count()[['trialNum']] \\\n",
    "    .rename(columns={'trialNum': 'cnt'}) \\\n",
    "    .reset_index() \\\n",
    "    .groupby(['condition', 'IP']) \\\n",
    "    .apply(fill_missing_rows) \\\n",
    "    .drop(columns='index') \\\n",
    "    .set_index(['IP']) \\\n",
    "    .reset_index() \\\n",
    "    .groupby(['condition', 'IP', 'display_type']) \\\n",
    "    .apply(normer) \\\n",
    "    .drop(columns=['cnt']) \\\n",
    "    .query('label_type == \"short\"') \\\n",
    "    .reset_index() \\\n",
    "    .drop(columns='index') \\\n",
    "    .pivot_table(values='prop', index=['condition', 'IP'], columns=['display_type']) \\\n",
    "    .reset_index()\n"
   ]
  },
  {
   "cell_type": "code",
   "execution_count": 68,
   "metadata": {
    "collapsed": true,
    "scrolled": true
   },
   "outputs": [],
   "source": [
    "# p = sns.lmplot(x='frequent', y='infrequent', hue='condition',\n",
    "#                 fit_reg=False, y_jitter=0.1,\n",
    "#                 scatter_kws={'alpha':0.5}, data=df_props)\n",
    "# plt.xlim(0, 1)\n",
    "# plt.ylim(0, 1)"
   ]
  },
  {
   "cell_type": "code",
   "execution_count": 69,
   "metadata": {},
   "outputs": [
    {
     "data": {
      "image/png": "[encoded data removed]",
      "text/plain": [
       "<matplotlib.figure.Figure at 0x1a13fe3b00>"
      ]
     },
     "metadata": {},
     "output_type": "display_data"
    }
   ],
   "source": [
    "p3 = sns.FacetGrid(col='condition', hue='condition', col_order=['accuracy', 'time', 'combination', 'other'], data=df_props)\n",
    "p3 = p3.map(plt.scatter, \"frequent\", \"infrequent\", alpha=0.5)"
   ]
  },
  {
   "cell_type": "code",
   "execution_count": 70,
   "metadata": {},
   "outputs": [
    {
     "data": {
      "image/png": "[encoded data removed]",
      "text/plain": [
       "<matplotlib.figure.Figure at 0x1a13c4c2b0>"
      ]
     },
     "metadata": {},
     "output_type": "display_data"
    }
   ],
   "source": [
    "curr_df = df_fig3_second_half[df_fig3_second_half['condition'].isin(['time', 'accuracy', 'combined'])]\n",
    "p2 = sns.FacetGrid(col='condition', hue='condition', col_order=['accuracy', 'time', 'combined'], data=curr_df)\n",
    "p2 = p2.map(plt.scatter, \"frequent\", \"infrequent\", alpha=0.5)"
   ]
  },
  {
   "cell_type": "code",
   "execution_count": null,
   "metadata": {
    "collapsed": true
   },
   "outputs": [],
   "source": []
  },
  {
   "cell_type": "code",
   "execution_count": null,
   "metadata": {
    "collapsed": true
   },
   "outputs": [],
   "source": []
  }
 ],
 "metadata": {
  "kernelspec": {
   "display_name": "Python 3",
   "language": "python",
   "name": "python3"
  },
  "language_info": {
   "codemirror_mode": {
    "name": "ipython",
    "version": 3
   },
   "file_extension": ".py",
   "mimetype": "text/x-python",
   "name": "python",
   "nbconvert_exporter": "python",
   "pygments_lexer": "ipython3",
   "version": "3.6.4"
  }
 },
 "nbformat": 4,
 "nbformat_minor": 2
}

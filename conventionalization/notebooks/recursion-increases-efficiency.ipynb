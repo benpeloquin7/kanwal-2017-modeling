{
 "cells": [
  {
   "cell_type": "markdown",
   "metadata": {},
   "source": [
    "### Recursion increases efficiency\n",
    "\n",
    "Author: bpeloqui\n",
    "\n",
    "Date: 20181202\n",
    "\n",
    "Pragmatics leads to conventionalization:\n",
    "\n",
    "We show that increases levels of recursion turns sub-optimal languages into \"optimal\" languages."
   ]
  },
  {
   "cell_type": "code",
   "execution_count": 49,
   "metadata": {},
   "outputs": [],
   "source": [
    "from collections import defaultdict\n",
    "import matplotlib.pyplot as plt\n",
    "import numpy as np\n",
    "import pandas as pd\n",
    "import seaborn as sns\n",
    "import sys\n",
    "sys.path.append(\"/Users/benpeloquin/Desktop/Projects/\")\n",
    "from zipf_principles.ambiguity.matrix import *\n",
    "from zipf_principles.ambiguity.objectives import *\n",
    "from zipf_principles.ambiguity.utils import *"
   ]
  },
  {
   "cell_type": "code",
   "execution_count": 6,
   "metadata": {},
   "outputs": [],
   "source": [
    "ce = CrossEntropy()"
   ]
  },
  {
   "cell_type": "code",
   "execution_count": 7,
   "metadata": {},
   "outputs": [],
   "source": [
    "nrow, ncol = 3, 3\n",
    "p_utterances = np.array([0.1, 0.2, 0.7])\n",
    "p_meanings = np.array([0.1, 0.2, 0.7])"
   ]
  },
  {
   "cell_type": "code",
   "execution_count": 68,
   "metadata": {},
   "outputs": [],
   "source": [
    "def has_diagonal(m):\n",
    "    for i in range(m.shape[0]):\n",
    "        for j in range(m.shape[1]):\n",
    "            if i == j:\n",
    "                if m[i][j] != 1: \n",
    "                    return False\n",
    "    return True\n",
    "            \n",
    "            \n",
    "all_matrices = generate_all_boolean_matrices(3, 3, 3) + generate_all_boolean_matrices(3, 3, 4) + generate_all_boolean_matrices(3, 3, 3) + generate_all_boolean_matrices(3, 3, 5)\n",
    "all_matrices = [(descr, m) for descr, m in all_matrices if is_valid_matrix(m, has_diagonal)]"
   ]
  },
  {
   "cell_type": "code",
   "execution_count": 69,
   "metadata": {},
   "outputs": [],
   "source": [
    "k_recursions = 30\n",
    "results = []\n",
    "for lang_id, m in all_matrices:\n",
    "    for k in range(k_recursions):\n",
    "        m_ = speaker(m, p_utterances, p_meanings, k=k)\n",
    "        entries = defaultdict()\n",
    "        for i in range(m_.shape[0]):\n",
    "            for j in range(m_.shape[1]):\n",
    "                entries[\"{}{}\".format(i, j)] = m_[i][j]\n",
    "        entries[\"k\"] = k\n",
    "        entries[\"lang_id\"] = \" \".join([\"{}\".format(x) for x in lang_id])\n",
    "        results.append(entries)\n",
    "df = pd.DataFrame(results)"
   ]
  },
  {
   "cell_type": "code",
   "execution_count": 70,
   "metadata": {},
   "outputs": [],
   "source": [
    "df.to_csv(\"convention_recursion.csv\")"
   ]
  },
  {
   "cell_type": "code",
   "execution_count": null,
   "metadata": {},
   "outputs": [],
   "source": []
  }
 ],
 "metadata": {
  "kernelspec": {
   "display_name": "Python 2",
   "language": "python",
   "name": "python2"
  },
  "language_info": {
   "codemirror_mode": {
    "name": "ipython",
    "version": 2
   },
   "file_extension": ".py",
   "mimetype": "text/x-python",
   "name": "python",
   "nbconvert_exporter": "python",
   "pygments_lexer": "ipython2",
   "version": "2.7.15"
  }
 },
 "nbformat": 4,
 "nbformat_minor": 2
}
